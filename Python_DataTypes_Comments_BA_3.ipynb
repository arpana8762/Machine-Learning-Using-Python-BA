{
  "nbformat": 4,
  "nbformat_minor": 0,
  "metadata": {
    "colab": {
      "provenance": []
    },
    "kernelspec": {
      "name": "python3",
      "display_name": "Python 3"
    },
    "language_info": {
      "name": "python"
    }
  },
  "cells": [
    {
      "cell_type": "markdown",
      "source": [
        "# Python Data Types\n",
        "\n",
        "In Python, every value is associated with a specific data type, and variables can store these values. Python is a dynamically typed language, meaning you don't need to specify the variable type explicitly. The Python interpreter determines the type of the variable based on the assigned value."
      ],
      "metadata": {
        "id": "YPvxM9BZXdXS"
      }
    },
    {
      "cell_type": "code",
      "source": [
        "pwd"
      ],
      "metadata": {
        "id": "3RdjGuplbC9z",
        "outputId": "186c879f-4525-44e2-da22-e0048c9540fa",
        "colab": {
          "base_uri": "https://localhost:8080/",
          "height": 179
        }
      },
      "execution_count": null,
      "outputs": [
        {
          "output_type": "execute_result",
          "data": {
            "text/plain": [
              "'/content'"
            ],
            "application/vnd.google.colaboratory.intrinsic+json": {
              "type": "string"
            }
          },
          "metadata": {},
          "execution_count": 1
        }
      ]
    },
    {
      "cell_type": "code",
      "execution_count": null,
      "metadata": {
        "id": "jGOi0oqBXUPf"
      },
      "outputs": [],
      "source": [
        "amount = 5000\n",
        "# We did not specify the type; Python implicitly recognizes it as an integer.\n",
        "print(\"The type of 'amount':\", type(amount))\n"
      ]
    },
    {
      "cell_type": "markdown",
      "source": [
        "You can verify the type of a variable using the type() function."
      ],
      "metadata": {
        "id": "mmBbKj_BXnuY"
      }
    },
    {
      "cell_type": "markdown",
      "source": [
        "# Standard Data Types in Python\n",
        "Python provides the following standard data types:\n",
        "\n",
        "1. Numbers\n",
        "2. Sequence Types\n",
        "3. Boolean\n",
        "4. Set\n",
        "5. Dictionary"
      ],
      "metadata": {
        "id": "jvLe2KBcXstN"
      }
    },
    {
      "cell_type": "markdown",
      "source": [
        "## 1. **Numeric Data Types**\n",
        "Numeric data types store numeric values and include:\n",
        "\n",
        "1. **Integer:** Whole numbers e.g., 100, -50.\n",
        "2. **Float:** Decimal numbers, e.g., 45.67, -89.5.\n",
        "3. **Complex Number:** Numbers with a real and imaginary part, e.g., 4+3j.\n",
        "\n",
        "### Example 1:"
      ],
      "metadata": {
        "id": "65J6tVqvX3YB"
      }
    },
    {
      "cell_type": "code",
      "source": [
        "principal = 100000  # Integer\n",
        "rate = 7.5  # Float\n",
        "growth = 2 + 3j  # Complex number\n",
        "\n",
        "print(\"Type of principal:\", type(principal))\n",
        "print(\"Type of rate:\", type(rate))\n",
        "print(\"Type of growth:\", type(growth))\n",
        "print(\"Is 'growth' a complex number?\", isinstance(growth, complex))\n"
      ],
      "metadata": {
        "id": "dufAwD9NYgRs"
      },
      "execution_count": null,
      "outputs": []
    },
    {
      "cell_type": "markdown",
      "source": [
        "### Example 2:"
      ],
      "metadata": {
        "id": "ijJgehxwYhyz"
      }
    },
    {
      "cell_type": "code",
      "source": [
        "# Integer: Representing financial data\n",
        "yearly_profit = 200000  # Integer\n",
        "print(\"Profit (Integer):\", yearly_profit)\n",
        "print(\"Type of yearly_profit:\", type(yearly_profit))\n",
        "\n",
        "# Float: Representing interest rate\n",
        "interest_rate = 7.25  # Float\n",
        "print(\"Interest Rate (Float):\", interest_rate)\n",
        "print(\"Type of interest_rate:\", type(interest_rate))\n",
        "\n",
        "# Complex Number: Representing growth models\n",
        "growth_model = 5 + 2j  # Complex\n",
        "print(\"Growth Model (Complex):\", growth_model)\n",
        "print(\"Type of growth_model:\", type(growth_model))\n",
        "print(\"Is 'growth_model' a complex number?\", isinstance(growth_model, complex))\n"
      ],
      "metadata": {
        "id": "hxDtmIHDYqWI"
      },
      "execution_count": null,
      "outputs": []
    },
    {
      "cell_type": "markdown",
      "source": [
        "## 2. **Sequence Types**\n",
        "Sequence types are used to store collections of data and include:\n",
        "\n",
        "1. String\n",
        "2. List\n",
        "3. Tuple"
      ],
      "metadata": {
        "id": "uj-K8hO-Y20g"
      }
    },
    {
      "cell_type": "markdown",
      "source": [
        "##1. **String**\n",
        "A string is a sequence of characters enclosed in single, double, or triple quotes. It can store information like account names or financial categories. They are used to represent textual data like account details or financial categories.\n",
        "\n",
        "## **Example 1:**"
      ],
      "metadata": {
        "id": "Lw2DKO79d_ZG"
      }
    },
    {
      "cell_type": "code",
      "source": [
        "# Financial Category\n",
        "category = \"Revenue\"\n",
        "description = \"\"\"This is a financial summary\n",
        "for the fiscal year.\"\"\"\n",
        "\n",
        "# String Operations\n",
        "print(\"First character of 'category':\", category[0])\n",
        "print(\"Concatenation:\", category + \" - Growth\")\n",
        "print(\"Repetition:\", category * 2)\n",
        "print(\"Substring:\", description[:20])  # Extract first 20 characters\n"
      ],
      "metadata": {
        "id": "-TAMrvVueFtM"
      },
      "execution_count": null,
      "outputs": []
    },
    {
      "cell_type": "markdown",
      "source": [
        "## **Example 2:**"
      ],
      "metadata": {
        "id": "EasYGrSHgMYK"
      }
    },
    {
      "cell_type": "code",
      "source": [
        "# String examples\n",
        "str1 = \"Profit Report\"  # Financial document name\n",
        "str2 = \" - Q1 2024\"     # Quarter detail\n",
        "\n",
        "# Operations\n",
        "print(str1[0:6])  # Extracting the first six characters\n",
        "print(str1[7])    # Printing the 7th character\n",
        "print(str1 * 2)   # Repeating the string\n",
        "print(str1 + str2)  # Concatenating strings\n"
      ],
      "metadata": {
        "id": "_EEtN5vHgJow"
      },
      "execution_count": null,
      "outputs": []
    },
    {
      "cell_type": "markdown",
      "source": [
        "##**Example 3:**"
      ],
      "metadata": {
        "id": "PZehjv_7gTSR"
      }
    },
    {
      "cell_type": "code",
      "source": [
        "# String examples\n",
        "currency = \"USD\"\n",
        "message = \"The exchange rate is 82.5 per \" + currency\n",
        "\n",
        "# Operations\n",
        "print(currency[:2])  # Extracting part of the string\n",
        "print(\"Currency in caps:\", currency.upper())  # Converting to uppercase\n",
        "print(message)  # Printing concatenated string\n"
      ],
      "metadata": {
        "id": "Z2vF3IelgWPn"
      },
      "execution_count": null,
      "outputs": []
    },
    {
      "cell_type": "markdown",
      "source": [
        "##2. **List**\n",
        "A list is a mutable sequence that can can store a collection of data. Lists are useful for managing data like monthly revenues or expenses.\n",
        "\n",
        "## **Example 1:**"
      ],
      "metadata": {
        "id": "WscQVZGSeIl4"
      }
    },
    {
      "cell_type": "code",
      "source": [
        "# Monthly revenue in USD\n",
        "monthly_revenue = [12000, 15000, 13000, 17000]\n",
        "print(\"Monthly Revenue List:\", monthly_revenue)\n",
        "\n",
        "# Operations\n",
        "print(\"First two months' revenue:\", monthly_revenue[:2])  # Slicing\n",
        "print(\"Revenues doubled:\", monthly_revenue * 2)  # Repetition\n",
        "print(\"Concatenated List:\", monthly_revenue + [14000, 16000])  # Concatenation\n"
      ],
      "metadata": {
        "id": "KVVWttWDeUEM"
      },
      "execution_count": null,
      "outputs": []
    },
    {
      "cell_type": "markdown",
      "source": [
        "##**Example 2:**"
      ],
      "metadata": {
        "id": "oLZd2og2iDdX"
      }
    },
    {
      "cell_type": "code",
      "source": [
        "# Monthly revenue\n",
        "monthly_revenue = [12000, 15000, 13000, 17000]\n",
        "\n",
        "# Operations\n",
        "print(type(monthly_revenue))  # Checking type\n",
        "print(monthly_revenue)  # Printing list\n",
        "print(monthly_revenue[2:])  # Slicing from the third element\n",
        "print(monthly_revenue[:2])  # Slicing the first two elements\n",
        "print(monthly_revenue * 2)  # Repeating the list\n",
        "print(monthly_revenue + [14000, 16000])  # Concatenating lists\n"
      ],
      "metadata": {
        "id": "Qgqjt_gkiJs5"
      },
      "execution_count": null,
      "outputs": []
    },
    {
      "cell_type": "markdown",
      "source": [
        "##**Example 3:**"
      ],
      "metadata": {
        "id": "yhuI1X_eiLNm"
      }
    },
    {
      "cell_type": "code",
      "source": [
        "# Expense categories\n",
        "expenses = [\"Marketing\", \"Operations\", \"Finance\", \"IT\"]\n",
        "\n",
        "# Operations\n",
        "print(type(expenses))  # Checking type\n",
        "print(expenses)  # Printing list\n",
        "print(expenses[1:3])  # Slicing to get elements 2 and 3\n",
        "print(expenses + [\"HR\", \"Legal\"])  # Adding more categories\n",
        "print(expenses * 3)  # Repeating the list\n"
      ],
      "metadata": {
        "id": "LM4owN1-iLiV"
      },
      "execution_count": null,
      "outputs": []
    },
    {
      "cell_type": "markdown",
      "source": [
        "##3. **Tuple**\n",
        "Tuples are immutable sequences, often used for fixed data like fiscal quarters or static financial data.\n",
        "\n",
        "##**Example 1:**"
      ],
      "metadata": {
        "id": "OirjW9m6eURp"
      }
    },
    {
      "cell_type": "code",
      "source": [
        "# Quarterly profits in USD\n",
        "quarterly_profits = (30000, 45000, 50000, 42000)\n",
        "print(\"Quarterly Profits Tuple:\", quarterly_profits)\n",
        "\n",
        "# Operations\n",
        "print(\"Profit for Q1 and Q2:\", quarterly_profits[:2])  # Slicing\n",
        "print(\"Concatenation:\", quarterly_profits + (60000,))  # Adding new data\n",
        "print(\"Repetition:\", quarterly_profits * 2)  # Repetition\n"
      ],
      "metadata": {
        "id": "50rsg5yiegVG"
      },
      "execution_count": null,
      "outputs": []
    },
    {
      "cell_type": "markdown",
      "source": [
        "##**Example 2:**"
      ],
      "metadata": {
        "id": "dQUp8nOVimTz"
      }
    },
    {
      "cell_type": "code",
      "source": [
        "# Quarterly profits\n",
        "quarterly_profits = (30000, 45000, 50000, 42000)\n",
        "\n",
        "# Operations\n",
        "print(type(quarterly_profits))  # Checking type\n",
        "print(quarterly_profits)  # Printing tuple\n",
        "print(quarterly_profits[1:])  # Slicing from second element\n",
        "print(quarterly_profits[:2])  # Slicing first two elements\n",
        "print(quarterly_profits * 2)  # Repeating tuple\n",
        "print(quarterly_profits + (60000,))  # Adding a new element\n"
      ],
      "metadata": {
        "id": "HjrN1RrGipJk"
      },
      "execution_count": null,
      "outputs": []
    },
    {
      "cell_type": "markdown",
      "source": [
        "##**Example 3:**"
      ],
      "metadata": {
        "id": "4Odol0OFim7_"
      }
    },
    {
      "cell_type": "code",
      "source": [
        "# Fixed tax slabs\n",
        "tax_slabs = (5, 12, 18, 28)\n",
        "\n",
        "# Operations\n",
        "print(type(tax_slabs))  # Checking type\n",
        "print(tax_slabs)  # Printing tuple\n",
        "print(tax_slabs[0:3])  # Extracting first three slabs\n",
        "print(tax_slabs * 3)  # Repeating tuple\n"
      ],
      "metadata": {
        "id": "ssRmPLWqis9Y"
      },
      "execution_count": null,
      "outputs": []
    },
    {
      "cell_type": "markdown",
      "source": [
        "# 3. **Boolean**\n",
        "Boolean values store True or False. They can be used for decision-making in financial scenarios.\n",
        "\n",
        "##**Example 1:**"
      ],
      "metadata": {
        "id": "ugpEHX0Memuo"
      }
    },
    {
      "cell_type": "code",
      "source": [
        "# Is the company profitable?\n",
        "is_profitable = True\n",
        "print(\"Type of is_profitable:\", type(is_profitable))\n",
        "\n",
        "# Logical Operation\n",
        "print(\"Negating Profitability:\", not is_profitable)\n"
      ],
      "metadata": {
        "id": "MlW4n6JbeuYW"
      },
      "execution_count": null,
      "outputs": []
    },
    {
      "cell_type": "markdown",
      "source": [
        "##**Example 2:**"
      ],
      "metadata": {
        "id": "6RID_Mc4i6XA"
      }
    },
    {
      "cell_type": "code",
      "source": [
        "# Checking if revenue is above a threshold\n",
        "revenue = 15000\n",
        "is_above_threshold = revenue > 10000\n",
        "print(type(is_above_threshold))  # Checking type\n",
        "print(\"Is revenue above threshold?\", is_above_threshold)\n"
      ],
      "metadata": {
        "id": "KHcNUhBEi-MC"
      },
      "execution_count": null,
      "outputs": []
    },
    {
      "cell_type": "markdown",
      "source": [
        "##**Example 3:**"
      ],
      "metadata": {
        "id": "0ElQlg4gi7DE"
      }
    },
    {
      "cell_type": "code",
      "source": [
        "# Checking profitability\n",
        "profit = 2000\n",
        "loss = 0\n",
        "print(bool(profit))  # True since non-zero value\n",
        "print(bool(loss))  # False since zero value\n"
      ],
      "metadata": {
        "id": "XWWYE78ajCy5"
      },
      "execution_count": null,
      "outputs": []
    },
    {
      "cell_type": "markdown",
      "source": [
        "# 4. **Set**\n",
        "A set is an unordered collection of unique items, useful for storing distinct values like unique transaction IDs.\n",
        "\n",
        "## **Example 1:**"
      ],
      "metadata": {
        "id": "nhlrC7_EevRO"
      }
    },
    {
      "cell_type": "code",
      "source": [
        "# Transaction IDs\n",
        "transaction_ids = {101, 102, 103, 104}\n",
        "print(\"Transaction IDs:\", transaction_ids)\n",
        "\n",
        "# Operations\n",
        "transaction_ids.add(105)  # Adding new transaction\n",
        "print(\"After Adding:\", transaction_ids)\n",
        "\n",
        "transaction_ids.remove(102)  # Removing a transaction\n",
        "print(\"After Removing:\", transaction_ids)\n"
      ],
      "metadata": {
        "id": "4F2Ilcwze4X_"
      },
      "execution_count": null,
      "outputs": []
    },
    {
      "cell_type": "markdown",
      "source": [
        "## **Example 2:**"
      ],
      "metadata": {
        "id": "-WTcujiRlKpt"
      }
    },
    {
      "cell_type": "code",
      "source": [
        "# Unique transaction IDs\n",
        "transactions = {101, 102, 103, 104}\n",
        "\n",
        "# Operations\n",
        "print(type(transactions))  # Checking type\n",
        "print(transactions)  # Printing set\n",
        "transactions.add(105)  # Adding an element\n",
        "print(transactions)\n",
        "transactions.remove(102)  # Removing an element\n",
        "print(transactions)\n"
      ],
      "metadata": {
        "id": "x_uCrdsBlCpR"
      },
      "execution_count": null,
      "outputs": []
    },
    {
      "cell_type": "markdown",
      "source": [
        "## **Example 3:**"
      ],
      "metadata": {
        "id": "e_WSHrMplF2T"
      }
    },
    {
      "cell_type": "code",
      "source": [
        "# Distinct branches\n",
        "branches = {\"New York\", \"London\", \"Tokyo\", \"Delhi\"}\n",
        "\n",
        "# Operations\n",
        "print(type(branches))  # Checking type\n",
        "print(branches)  # Printing set\n",
        "branches.add(\"Sydney\")  # Adding a new branch\n",
        "print(branches)\n",
        "branches.remove(\"London\")  # Removing a branch\n",
        "print(branches)\n"
      ],
      "metadata": {
        "id": "zmoBuKuKlDdG"
      },
      "execution_count": null,
      "outputs": []
    },
    {
      "cell_type": "markdown",
      "source": [
        "# 5. **Dictionary**\n",
        "\n",
        "A dictionary in Python is a collection of key-value pairs, where each key is unique, and each key maps to a value. Dictionaries are mutable, meaning you can add, remove, or modify key-value pairs after their creation.\n",
        "\n",
        "Dictionaries are particularly ideal for mapping relationships, such as:\n",
        "\n",
        "1. Account Numbers to Balances\n",
        "2. Products to Prices\n",
        "3. Customer IDs to Orders\n",
        "\n",
        "## **Example 1:**"
      ],
      "metadata": {
        "id": "ugETt1Bqe61V"
      }
    },
    {
      "cell_type": "code",
      "source": [
        "# Account balances\n",
        "account_balances = {\"A101\": 5000, \"A102\": 10000, \"A103\": 7500}\n",
        "\n",
        "# Operations\n",
        "print(\"Account Balances:\", account_balances)\n",
        "print(\"Balance of A102:\", account_balances[\"A102\"])  # Accessing value\n",
        "print(\"All Account Numbers:\", account_balances.keys())  # All keys\n",
        "print(\"All Balances:\", account_balances.values())  # All values\n",
        "\n",
        "# Adding a new account\n",
        "account_balances[\"A104\"] = 9000\n",
        "print(\"Updated Balances:\", account_balances)\n"
      ],
      "metadata": {
        "id": "1mjF6TegfFV5"
      },
      "execution_count": null,
      "outputs": []
    },
    {
      "cell_type": "markdown",
      "source": [
        "## **Example 2:**Account Numbers and Balances\n",
        "Dictionaries can store account numbers as keys and corresponding balances as values."
      ],
      "metadata": {
        "id": "2UNsVqQrjZIt"
      }
    },
    {
      "cell_type": "code",
      "source": [
        "# Dictionary storing account balances\n",
        "account_balances = {\"A001\": 5000, \"A002\": 10000, \"A003\": 7500}\n",
        "\n",
        "# Operations\n",
        "print(type(account_balances))  # Checking the type\n",
        "print(\"Account Balances:\", account_balances)  # Printing the dictionary\n",
        "\n",
        "# Accessing specific balances using keys\n",
        "print(\"Balance of A002:\", account_balances[\"A002\"])\n",
        "\n",
        "# Adding a new account with balance\n",
        "account_balances[\"A004\"] = 12000\n",
        "print(\"Updated Account Balances:\", account_balances)\n",
        "\n",
        "# Removing an account\n",
        "del account_balances[\"A003\"]\n",
        "print(\"After Removing A003:\", account_balances)\n",
        "\n",
        "# Fetching all keys and values\n",
        "print(\"Account Numbers:\", account_balances.keys())  # Keys (account numbers)\n",
        "print(\"Balances:\", account_balances.values())  # Values (balances)\n"
      ],
      "metadata": {
        "id": "3ydcVVaqje0N"
      },
      "execution_count": null,
      "outputs": []
    },
    {
      "cell_type": "markdown",
      "source": [
        "## **Example 3:**Products and Prices\n",
        "Dictionaries can also store product IDs as keys and their respective prices as values."
      ],
      "metadata": {
        "id": "RMDlip_TjZ0B"
      }
    },
    {
      "cell_type": "code",
      "source": [
        "# Dictionary storing product prices\n",
        "product_prices = {\"P101\": 150, \"P102\": 250, \"P103\": 350}\n",
        "\n",
        "# Operations\n",
        "print(type(product_prices))  # Checking the type\n",
        "print(\"Product Prices:\", product_prices)  # Printing the dictionary\n",
        "\n",
        "# Accessing the price of a specific product\n",
        "print(\"Price of P102:\", product_prices[\"P102\"])\n",
        "\n",
        "# Adding a new product\n",
        "product_prices[\"P104\"] = 450\n",
        "print(\"Updated Product Prices:\", product_prices)\n",
        "\n",
        "# Updating the price of an existing product\n",
        "product_prices[\"P103\"] = 400\n",
        "print(\"After Updating P103 Price:\", product_prices)\n",
        "\n",
        "# Removing a product\n",
        "product_prices.pop(\"P101\")\n",
        "print(\"After Removing P101:\", product_prices)\n",
        "\n",
        "# Fetching all keys and values\n",
        "print(\"Product IDs:\", product_prices.keys())  # Keys (product IDs)\n",
        "print(\"Prices:\", product_prices.values())  # Values (prices)\n"
      ],
      "metadata": {
        "id": "SKH9zitvjqeW"
      },
      "execution_count": null,
      "outputs": []
    },
    {
      "cell_type": "markdown",
      "source": [
        "# Key Features of Dictionaries\n",
        "\n",
        "**Unordered:** The order of items may not match the order they were inserted (Python 3.7+ retains order for practical use).\n",
        "\n",
        "**Keys Must Be Unique:** Duplicate keys are not allowed; the latest value overwrites earlier ones.\n",
        "\n",
        "**Mutable:** You can add, delete, or modify entries.\n",
        "\n",
        "**Efficient Lookups:** Accessing values using keys is quick and efficient."
      ],
      "metadata": {
        "id": "TFEEZ-pCjy-p"
      }
    },
    {
      "cell_type": "markdown",
      "source": [
        "# Common Operations with Dictionaries\n",
        "<table><tr><th>Operation\t<th>Code Example\t<th>Explanation</tr>\n",
        "<tr><td>Access a Value\t<td>dictionary[key]\t<td>Access the value corresponding to a key.</tr>\n",
        "<tr><td>Add a Key-Value Pair\t<td>dictionary[new_key] = value\t<td>Add a new key-value pair.</tr>\n",
        "<tr><td>Remove a Key-Value Pair\t<td>dictionary.pop(key) or del dictionary[key]\t<td>Remove an entry by key.</tr>\n",
        "<tr><td>Get All Keys\t<td>dictionary.keys()\t<td>Returns a view of all keys in the dictionary.</tr>\n",
        "<tr><td>Get All Values\t<td>dictionary.values()\t<td>Returns a view of all values in the dictionary.</tr>\n",
        "<tr><td>Update an Existing Key\t<td>dictionary[key] = new_value\t<td>Modify the value associated with a key.</tr></table>\n",
        "\n",
        "Dictionaries are incredibly versatile and particularly useful in finance for storing mappings, like product prices, account balances, and more."
      ],
      "metadata": {
        "id": "K5Dqx74xkCsG"
      }
    },
    {
      "cell_type": "markdown",
      "source": [
        "# Summary of Data Types and Operations\n",
        "<table><tr><th>Data Type\t<th>Examples\t<th>Key Operations</tr>\n",
        "<tr><td>Integer\t<td>200000, 10\t<td>Arithmetic, type()</tr>\n",
        "<tr><td>Float\t<td>7.25, 12.5\t<td>Arithmetic, type()</tr>\n",
        "<tr><td>Complex\t<td>5 + 2j\t<td>Real/Imaginary part extraction</tr>\n",
        "<tr><td>String\t<td>\"Revenue\"\t<td>Slicing, Concatenation, Repetition</tr>\n",
        "<tr><td>List\t<td>[12000, 15000]\t<td>Slicing, Concatenation, Repetition</tr>\n",
        "<tr><td>Tuple\t<td>(30000, 45000)\t<td>Slicing, Repetition</tr>\n",
        "<tr><td>Boolean\t<td>True, False\t<td>Logical operations, Negation</tr>\n",
        "<tr><td>Set\t<td>{101, 102}\t<td>Add, Remove, Unique Elements</tr>\n",
        "<tr><td>Dictionary\t<td>{\"A101\": 5000}\t<td>Access values, Add new key-value pairs</tr></table>\n"
      ],
      "metadata": {
        "id": "m6x9RJ0HfK47"
      }
    }
  ]
}