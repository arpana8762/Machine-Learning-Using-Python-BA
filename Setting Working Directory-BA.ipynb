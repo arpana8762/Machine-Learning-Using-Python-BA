{
 "cells": [
  {
   "cell_type": "markdown",
   "id": "fd816712-85b8-4584-a938-2beffbeb834a",
   "metadata": {},
   "source": [
    "Setting the working directory in Python ensures that the files you want to work with are easily accessible and that output files are saved to the correct location. Here are the steps to set the working directory in Python:\n",
    "\n",
    "1. Using os Module\n",
    "The os module in Python is commonly used to interact with the file system, including setting the working directory.\n",
    "\n",
    "Steps:\n",
    "Import the os module:"
   ]
  },
  {
   "cell_type": "code",
   "execution_count": null,
   "id": "ffd06ed2-df5f-4d07-97c6-39767b825eba",
   "metadata": {},
   "outputs": [],
   "source": [
    "import os\n"
   ]
  },
  {
   "cell_type": "markdown",
   "id": "28110a11-2117-4450-8448-5119da7784b0",
   "metadata": {},
   "source": [
    "Get the current working directory (optional, to check where you are):"
   ]
  },
  {
   "cell_type": "code",
   "execution_count": null,
   "id": "406b39a6-7974-4a4b-8d00-6314ecdc72bd",
   "metadata": {},
   "outputs": [],
   "source": [
    "print(\"Current Working Directory:\", os.getcwd())\n"
   ]
  },
  {
   "cell_type": "markdown",
   "id": "c38de511-8d68-4dff-bb7b-b4947dc18727",
   "metadata": {},
   "source": [
    "Set the new working directory:"
   ]
  },
  {
   "cell_type": "code",
   "execution_count": null,
   "id": "d13ae74e-4b06-4956-a560-10a2eb8f5758",
   "metadata": {},
   "outputs": [],
   "source": [
    "os.chdir(\"path/to/your/directory\")\n"
   ]
  },
  {
   "cell_type": "markdown",
   "id": "7cc1ab44-2e5a-4cc0-b27f-3b5862efc850",
   "metadata": {},
   "source": [
    "Verify the change (optional):"
   ]
  },
  {
   "cell_type": "code",
   "execution_count": null,
   "id": "6c630bd2-1ab6-4073-b609-b6127931d5f1",
   "metadata": {},
   "outputs": [],
   "source": [
    "print(\"Updated Working Directory:\", os.getcwd())\n"
   ]
  },
  {
   "cell_type": "markdown",
   "id": "dfb1b156-90fa-4b2d-870c-2ea53beb4070",
   "metadata": {},
   "source": [
    "2. Using os with Pathlib (Preferred for Modern Code)\n",
    "The pathlib module offers an object-oriented approach to file system paths.\n",
    "\n",
    "Steps:\n",
    "Import the required modules:"
   ]
  },
  {
   "cell_type": "code",
   "execution_count": null,
   "id": "1b9e00cc-e6ce-4508-997b-f7665c194d2c",
   "metadata": {},
   "outputs": [],
   "source": [
    "from pathlib import Path\n",
    "import os\n"
   ]
  },
  {
   "cell_type": "markdown",
   "id": "708cca8c-e5e0-4947-a10d-93b93bb5797d",
   "metadata": {},
   "source": [
    "Define the new path:"
   ]
  },
  {
   "cell_type": "code",
   "execution_count": null,
   "id": "939726b9-9e69-4df5-a7ea-31ccc3c00ff3",
   "metadata": {},
   "outputs": [],
   "source": [
    "new_path = Path(\"path/to/your/directory\")"
   ]
  },
  {
   "cell_type": "markdown",
   "id": "3077cbd0-1cfa-4197-9a27-12e5bb91a07f",
   "metadata": {},
   "source": [
    "Change the working directory:"
   ]
  },
  {
   "cell_type": "code",
   "execution_count": null,
   "id": "9f2a98ae-dc73-461e-8449-9668949f1fde",
   "metadata": {},
   "outputs": [],
   "source": [
    "os.chdir(new_path)\n"
   ]
  },
  {
   "cell_type": "markdown",
   "id": "6e7b29b5-7012-4e25-ae29-2e37c8f41e90",
   "metadata": {},
   "source": [
    "Verify the change:"
   ]
  },
  {
   "cell_type": "code",
   "execution_count": null,
   "id": "40b078cd-55e0-41e3-b7f0-459b175809a6",
   "metadata": {},
   "outputs": [],
   "source": [
    "print(\"Updated Working Directory:\", Path.cwd())\n"
   ]
  },
  {
   "cell_type": "markdown",
   "id": "48e35dbe-f40a-4db0-b522-43d7973888e5",
   "metadata": {},
   "source": [
    "3. Directly in Jupyter Notebook\n",
    "If you're working in a Jupyter Notebook, you can use %cd to change the directory.\n",
    "\n",
    "Steps:\n",
    "Check current directory:"
   ]
  },
  {
   "cell_type": "code",
   "execution_count": null,
   "id": "1aed63d7-14ff-4f18-b3c6-9631554c698f",
   "metadata": {},
   "outputs": [],
   "source": [
    "!pwd  # On Linux/Mac\n",
    "!cd   # On Windows\n"
   ]
  },
  {
   "cell_type": "markdown",
   "id": "85fb0842-5d07-46b7-9ddb-934f885116ba",
   "metadata": {},
   "source": [
    "Change the directory:"
   ]
  },
  {
   "cell_type": "code",
   "execution_count": null,
   "id": "a31768b7-060f-4960-80ea-f8c7fff0e23a",
   "metadata": {},
   "outputs": [],
   "source": [
    "%cd path/to/your/directory\n"
   ]
  },
  {
   "cell_type": "markdown",
   "id": "b736ea01-8b83-4e66-8ec9-52f4b3215de1",
   "metadata": {},
   "source": [
    "4. Using an IDE's Settings\n",
    "If you're using an IDE like PyCharm, VS Code, or Jupyter Notebook, you can set the working directory in the IDE settings.\n",
    "\n",
    "PyCharm:\n",
    "\n",
    "Go to Run > Edit Configurations.\n",
    "Set the \"Working directory\" to your desired folder.\n",
    "VS Code:\n",
    "\n",
    "Add \"cwd\": \"path/to/your/directory\" in the .vscode/settings.json or .vscode/launch.json."
   ]
  },
  {
   "cell_type": "code",
   "execution_count": null,
   "id": "74babd74-f43d-451e-8a9e-1d02b8bf966f",
   "metadata": {},
   "outputs": [],
   "source": [
    "import os\n",
    "\n",
    "# Print current directory\n",
    "print(\"Current Directory:\", os.getcwd())\n",
    "\n",
    "# Set new directory\n",
    "os.chdir(\"/Users/username/Documents/MyProject\")\n",
    "\n",
    "# Verify new directory\n",
    "print(\"Updated Directory:\", os.getcwd())\n"
   ]
  }
 ],
 "metadata": {
  "kernelspec": {
   "display_name": "Python [conda env:base] *",
   "language": "python",
   "name": "conda-base-py"
  },
  "language_info": {
   "codemirror_mode": {
    "name": "ipython",
    "version": 3
   },
   "file_extension": ".py",
   "mimetype": "text/x-python",
   "name": "python",
   "nbconvert_exporter": "python",
   "pygments_lexer": "ipython3",
   "version": "3.12.4"
  }
 },
 "nbformat": 4,
 "nbformat_minor": 5
}
