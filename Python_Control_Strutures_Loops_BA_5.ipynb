{
  "nbformat": 4,
  "nbformat_minor": 0,
  "metadata": {
    "colab": {
      "provenance": []
    },
    "kernelspec": {
      "name": "python3",
      "display_name": "Python 3"
    },
    "language_info": {
      "name": "python"
    }
  },
  "cells": [
    {
      "cell_type": "code",
      "execution_count": null,
      "metadata": {
        "id": "w_y-YIGG24Ub"
      },
      "outputs": [],
      "source": []
    },
    {
      "cell_type": "markdown",
      "source": [
        "# Python If-Else Statements\n",
        "Decision-making is an essential part of almost every programming language, and Python is no exception. It allows us to execute specific blocks of code based on certain conditions. These conditions are evaluated, and actions are taken depending on whether the conditions are true or false.\n",
        "\n",
        "In Python, decision-making is done using the following statements:\n",
        "\n",
        "<table><tr><th>Statement\t<th>Description</tr>\n",
        "<tr><td>If Statement<td>\tTests a condition. If the condition is true, executes a block of code (if-block).</tr>\n",
        "<tr><td>If-Else Statement<td>\tExecutes one block of code if the condition is true, and another block if the condition is false.</tr>\n",
        "<tr><td>Nested If\t<td>Allows the use of if-else statements inside another if statement.</tr></table>\n",
        "\n",
        "# Indentation in Python\n",
        "Python uses indentation to define blocks of code instead of braces {} or parentheses (). A block of code begins with a consistent indentation, usually four spaces. This indentation helps keep the code clean and readable. All statements within the same block must be indented equally.\n",
        "\n"
      ],
      "metadata": {
        "id": "RUnfgHf-2_j2"
      }
    },
    {
      "cell_type": "markdown",
      "source": [
        "# The if Statement\n",
        "The if statement is used to test a condition. If the condition is true, the block of code inside the if is executed. Here's the syntax:"
      ],
      "metadata": {
        "id": "Ujw2ai_P3lPb"
      }
    },
    {
      "cell_type": "code",
      "source": [
        "if condition:\n",
        "    statement(s)\n"
      ],
      "metadata": {
        "id": "z58UlOap3oCZ"
      },
      "execution_count": null,
      "outputs": []
    },
    {
      "cell_type": "markdown",
      "source": [
        "## **Example 1: Determining Budget Surplus or Deficit**"
      ],
      "metadata": {
        "id": "danSoA3B3s-3"
      }
    },
    {
      "cell_type": "code",
      "source": [
        "# Program to check if there is a budget surplus\n",
        "income = int(input(\"Enter your monthly income: \"))\n",
        "expenses = int(input(\"Enter your monthly expenses: \"))\n",
        "\n",
        "if income > expenses:\n",
        "    print(\"You have a budget surplus!\")\n"
      ],
      "metadata": {
        "id": "PvYmkgGc3p1_"
      },
      "execution_count": null,
      "outputs": []
    },
    {
      "cell_type": "markdown",
      "source": [
        "# The if-else Statement\n",
        "The if-else statement provides a choice between two actions. If the condition is true, the if block is executed; otherwise, the else block is executed.\n",
        "\n",
        "## **Example 2: Determining Loan Approval**"
      ],
      "metadata": {
        "id": "jLqiuFCD33Ag"
      }
    },
    {
      "cell_type": "code",
      "source": [
        "# Program to check loan approval\n",
        "credit_score = int(input(\"Enter your credit score: \"))\n",
        "\n",
        "if credit_score >= 700:\n",
        "    print(\"Loan Approved!\")\n",
        "else:\n",
        "    print(\"Loan Denied!\")\n"
      ],
      "metadata": {
        "id": "NKZQHFXw37To"
      },
      "execution_count": null,
      "outputs": []
    },
    {
      "cell_type": "markdown",
      "source": [
        "# The elif Statement\n",
        "The elif statement is used when multiple conditions need to be tested. It is short for \"else if\". If one condition is true, the corresponding block is executed, and the remaining conditions are skipped.\n",
        "\n",
        "## **Example 3: Categorizing Credit Ratings**"
      ],
      "metadata": {
        "id": "QQ0iFOjn39mP"
      }
    },
    {
      "cell_type": "code",
      "source": [
        "# Program to categorize credit ratings\n",
        "credit_score = int(input(\"Enter your credit score: \"))\n",
        "\n",
        "if credit_score >= 750:\n",
        "    print(\"Excellent Credit\")\n",
        "elif 700 <= credit_score < 750:\n",
        "    print(\"Good Credit\")\n",
        "elif 650 <= credit_score < 700:\n",
        "    print(\"Fair Credit\")\n",
        "else:\n",
        "    print(\"Poor Credit\")\n"
      ],
      "metadata": {
        "id": "NZ6syOz34FYY"
      },
      "execution_count": null,
      "outputs": []
    },
    {
      "cell_type": "markdown",
      "source": [
        "# Nested if Statements\n",
        "A nested if is an if statement inside another if statement. It is useful for checking conditions that depend on prior conditions.\n",
        "\n",
        "## **Example 4: Investment Decision**\n",
        "\n"
      ],
      "metadata": {
        "id": "A9KawdbS4GLv"
      }
    },
    {
      "cell_type": "code",
      "source": [
        "# Program to decide on an investment\n",
        "investment_amount = int(input(\"Enter the investment amount: \"))\n",
        "risk_tolerance = input(\"Enter risk tolerance (low/medium/high): \").lower()\n",
        "\n",
        "if investment_amount > 10000:\n",
        "    if risk_tolerance == \"high\":\n",
        "        print(\"Invest in stocks.\")\n",
        "    elif risk_tolerance == \"medium\":\n",
        "        print(\"Invest in mutual funds.\")\n",
        "    else:\n",
        "        print(\"Invest in fixed deposits.\")\n",
        "else:\n",
        "    print(\"Consider saving more before investing.\")\n"
      ],
      "metadata": {
        "id": "Ye0qhctb4NUj"
      },
      "execution_count": null,
      "outputs": []
    },
    {
      "cell_type": "markdown",
      "source": [
        "# Key Points to Remember:\n",
        "- Indentation is critical in Python; all statements in a block must align.\n",
        "- Use if for single conditions, if-else for two outcomes, and elif for multiple conditions.\n",
        "- Nested if statements allow complex decision-making."
      ],
      "metadata": {
        "id": "JMEu_Vo54TPo"
      }
    },
    {
      "cell_type": "markdown",
      "source": [
        "# Python Loops\n",
        "Loops in Python allow us to run a block of code repeatedly until a specific condition is met. Python provides three types of loops, each with its own syntax and usage. Although their purpose is the same, they differ in how conditions are checked and how they work.\n",
        "\n",
        "You can use loops to execute one or more statements repeatedly. Here's an overview of the types of loops in Python."
      ],
      "metadata": {
        "id": "hrr9s6qH4XnQ"
      }
    },
    {
      "cell_type": "markdown",
      "source": [
        "# Types of Loops in Python\n",
        "<table><tr><th>Sr. No.\t<th>Loop Name\t<th>Description</tr>\n",
        "<tr><td>1\t<td>While Loop\t<td>Executes a block of code repeatedly as long as a given condition is True. It checks the condition before running.</tr>\n",
        "<tr><td>2\t<td>For Loop\t<td>Executes a block of code multiple times, typically used to iterate over items in a list, tuple, or other collections.</tr>\n",
        "<tr><td>3\t<td>Nested Loops\t<td>Allows one loop to run inside another loop. Useful for iterating over multiple layers of data.</tr></table>\n",
        "\n",
        "\n"
      ],
      "metadata": {
        "id": "W3fPK5d44uXF"
      }
    },
    {
      "cell_type": "markdown",
      "source": [
        "# Loop Control Statements\n",
        "Loop control statements are used to change the flow of a loop. Once the loop execution is complete, any variables created within it are removed.\n",
        "\n",
        "Here are the main control statements in Python:\n",
        "\n",
        "<table><tr><th>Sr. No.\t<th>Control Statement\t<th>Description</tr>\n",
        "<tr><td>1\t<td>Break Statement\t<td>Stops the loop and jumps to the code after the loop.</tr>\n",
        "<tr><td>2\t<td>Continue Statement\t<td>Skips the current iteration and proceeds to the next iteration.</tr>\n",
        "<tr><td>3\t<td>Pass Statement\t<td>Does nothing; used when a statement is syntactically required but no action is needed.</tr>"
      ],
      "metadata": {
        "id": "dfXinwWJ5S0R"
      }
    },
    {
      "cell_type": "markdown",
      "source": [
        "# Python for Loop\n",
        "A for loop in Python is primarily used to iterate over iterable objects such as lists, tuples, strings, or dictionaries. Iteration refers to the process of traversing a sequence (like a list) and executing code for each element in that sequence. For loops are especially helpful when working with financial datasets or repetitive calculations in finance, such as summing values, analyzing transaction records, or calculating metrics.\n",
        "\n",
        "The for loop is commonly used to process items from an iterable, such as a range of numbers or elements in a list. While for loops are best suited for scenarios where the number of iterations is predefined, whi"
      ],
      "metadata": {
        "id": "OgVm07ErbBHZ"
      }
    },
    {
      "cell_type": "markdown",
      "source": [
        "# The for Loop\n",
        "\n",
        "le loops are used when iterations depend on a specific condition being met.\n",
        "The for loop is used to execute a block of code for each item in a sequence, such as a list, tuple, or dictionary. This process is called iteration.\n",
        "\n",
        "## Syntax:"
      ],
      "metadata": {
        "id": "cRRkrkKZ5tLt"
      }
    },
    {
      "cell_type": "code",
      "source": [
        "for value in sequence:\n",
        "    # loop body\n",
        "\n"
      ],
      "metadata": {
        "id": "OEFyRYMl5yCk"
      },
      "execution_count": null,
      "outputs": []
    },
    {
      "cell_type": "markdown",
      "source": [
        "- value: A variable that holds each element of the sequence during iteration.\n",
        "- sequence: An iterable object (e.g., list, tuple, or string).\n",
        "- Loop Body: The indented code block that runs for each element in the sequence."
      ],
      "metadata": {
        "id": "2kLxl_NabHsc"
      }
    },
    {
      "cell_type": "markdown",
      "source": [
        "## **Example 1 (Finance):**"
      ],
      "metadata": {
        "id": "pMrsyxQC506l"
      }
    },
    {
      "cell_type": "code",
      "source": [
        "# Calculate the square of monthly sales\n",
        "monthly_sales = [1000, 2000, 1500, 3000, 2500]\n",
        "squared_sales = []\n",
        "\n",
        "for sale in monthly_sales:\n",
        "    squared_sales.append(sale ** 2)  # Square of each sale\n",
        "print(\"The squared sales values are:\", squared_sales)\n"
      ],
      "metadata": {
        "id": "RfII-gc857pi"
      },
      "execution_count": null,
      "outputs": []
    },
    {
      "cell_type": "markdown",
      "source": [
        "## **Example: Calculating the Sum of Squares**\n",
        "Here’s a finance-related example where we calculate the sum of squared transaction amounts:"
      ],
      "metadata": {
        "id": "uQgNwCqNbY99"
      }
    },
    {
      "cell_type": "code",
      "source": [
        "# List of daily transaction amounts in dollars\n",
        "transactions = [200, 500, 300, 400, 250]\n",
        "\n",
        "# Variable to store the sum of squares\n",
        "sum_of_squares = 0\n",
        "\n",
        "# Using for loop to iterate over the list\n",
        "for transaction in transactions:\n",
        "    sum_of_squares += transaction ** 2  # Add square of each transaction\n",
        "\n",
        "print(\"The sum of squares of transactions is:\", sum_of_squares)\n"
      ],
      "metadata": {
        "id": "9H14aCfFbeJe"
      },
      "execution_count": null,
      "outputs": []
    },
    {
      "cell_type": "markdown",
      "source": [
        "# Using else with a for Loop\n",
        "The else statement runs after the for loop completes. However, it won’t execute if the loop is stopped using a break.\n",
        "\n",
        "## **Example 1: (Finance):**"
      ],
      "metadata": {
        "id": "WcMiybHy6BDV"
      }
    },
    {
      "cell_type": "code",
      "source": [
        "monthly_sales = [1000, 2000, 3000, 4000]\n",
        "\n",
        "for sale in monthly_sales:\n",
        "    print(f\"Processing sale: {sale}\")\n",
        "else:\n",
        "    print(\"All sales have been processed!\")\n"
      ],
      "metadata": {
        "id": "3naVH6Xr6FVX"
      },
      "execution_count": null,
      "outputs": []
    },
    {
      "cell_type": "markdown",
      "source": [
        "# Using Else with a For Loop\n",
        "The else block in a for loop runs after the loop completes its iterations, unless the loop is terminated using a break statement.\n",
        "\n",
        "## Example 2: Checking for Fraudulent Transactions"
      ],
      "metadata": {
        "id": "SI3e59IgcNfE"
      }
    },
    {
      "cell_type": "code",
      "source": [
        "# List of transactions\n",
        "transactions = [200, 300, 450, 1500, 700]\n",
        "\n",
        "# Threshold for flagging a transaction as fraudulent\n",
        "threshold = 1000\n",
        "\n",
        "# Checking transactions\n",
        "for transaction in transactions:\n",
        "    if transaction > threshold:\n",
        "        print(f\"Fraudulent transaction detected: ${transaction}\")\n",
        "        break\n",
        "else:\n",
        "    print(\"No fraudulent transactions detected.\")\n"
      ],
      "metadata": {
        "id": "fEJwDGzXcT6D"
      },
      "execution_count": null,
      "outputs": []
    },
    {
      "cell_type": "markdown",
      "source": [
        "# The range() Function\n",
        "The range() function is frequently used with for loops to generate a sequence of numbers. It is not part of the syntax of a loop but serves as a tool to create ranges for iteration.\n",
        "\n",
        "## Syntax of range():"
      ],
      "metadata": {
        "id": "SNchJPwCbmhJ"
      }
    },
    {
      "cell_type": "code",
      "source": [
        "range(start, stop, step)\n"
      ],
      "metadata": {
        "id": "O9JB8Mm3bp8i"
      },
      "execution_count": null,
      "outputs": []
    },
    {
      "cell_type": "markdown",
      "source": [
        "- start: The starting value (default is 0).\n",
        "- stop: The stopping value (exclusive).\n",
        "- step: The interval between values (default is 1).\n"
      ],
      "metadata": {
        "id": "D0CIz8oZbtNu"
      }
    },
    {
      "cell_type": "markdown",
      "source": [
        "## Example 1: (Finance):"
      ],
      "metadata": {
        "id": "Vq0zwlMQ7Vth"
      }
    },
    {
      "cell_type": "code",
      "source": [
        "# Generate years for a loan repayment schedule\n",
        "years = range(2022, 2027)\n",
        "\n",
        "for year in years:\n",
        "    print(f\"Year: {year}\")\n"
      ],
      "metadata": {
        "id": "CJ-ejCzNdQni"
      },
      "execution_count": null,
      "outputs": []
    },
    {
      "cell_type": "markdown",
      "source": [
        "## **Example 2: Adjusting Account Balances**\n",
        "Let’s use range() to iterate through account balances and adjust them for a fixed monthly deduction:"
      ],
      "metadata": {
        "id": "8okM5wGjb05j"
      }
    },
    {
      "cell_type": "code",
      "source": [
        "# Monthly account balances\n",
        "balances = [1000, 1500, 1200, 1300, 1800]\n",
        "\n",
        "# Deduction amount\n",
        "deduction = 100\n",
        "\n",
        "# Adjusting balances using a for loop and range()\n",
        "for i in range(len(balances)):\n",
        "    balances[i] -= deduction  # Deduct $100 from each balance\n",
        "\n",
        "print(\"Updated balances:\", balances)\n"
      ],
      "metadata": {
        "id": "F0tlufc8byP3"
      },
      "execution_count": null,
      "outputs": []
    },
    {
      "cell_type": "markdown",
      "source": [
        "# Iterating with Indexes\n",
        "We can also use range() to access elements in a list by their index. This method is useful when you need both the index and the value of items.\n",
        "\n",
        "## **Example: Calculating Interest on Balances**"
      ],
      "metadata": {
        "id": "55vDTNyab_fT"
      }
    },
    {
      "cell_type": "code",
      "source": [
        "# List of balances\n",
        "balances = [1000, 1500, 1200, 1300, 1800]\n",
        "\n",
        "# Interest rate in percentage\n",
        "interest_rate = 5\n",
        "\n",
        "# Calculate interest using for loop and indexing\n",
        "for i in range(len(balances)):\n",
        "    interest = (balances[i] * interest_rate) / 100\n",
        "    print(f\"Balance: {balances[i]}, Interest: {interest}\")\n"
      ],
      "metadata": {
        "id": "fNAqH_QMcDie"
      },
      "execution_count": null,
      "outputs": []
    },
    {
      "cell_type": "markdown",
      "source": [
        "# Python While Loop\n",
        "The while loop repeatedly executes a block of code as long as the condition specified evaluates to True. It is particularly useful when the number of iterations is unknown beforehand and depends on dynamic conditions.\n",
        "\n",
        "The while loop runs as long as the given condition is True. It stops when the condition becomes False.\n",
        "\n",
        "## **Syntax:**"
      ],
      "metadata": {
        "id": "VkyxVw3l6NLE"
      }
    },
    {
      "cell_type": "code",
      "source": [
        "while condition:\n",
        "    # code block\n"
      ],
      "metadata": {
        "id": "Ju7ESrTW6SOd"
      },
      "execution_count": null,
      "outputs": []
    },
    {
      "cell_type": "markdown",
      "source": [
        "- condition: A logical expression that returns True or False.\n",
        "- Code block: The indented statements that run while the condition is True."
      ],
      "metadata": {
        "id": "9GrASgBdds25"
      }
    },
    {
      "cell_type": "markdown",
      "source": [
        "# Key Points of While Loop:\n",
        "1. The condition is evaluated before each iteration.\n",
        "2. The loop stops when the condition evaluates to False.\n",
        "3. Proper indentation is crucial to define the scope of the loop body.\n",
        "4. Be cautious with incrementing variables inside the loop to avoid infinite loops."
      ],
      "metadata": {
        "id": "vv9ss5FTd0-f"
      }
    },
    {
      "cell_type": "markdown",
      "source": [
        "## **Example 1: Printing Numbers from 1 to 10**\n",
        "Let’s start with a simple example where we print numbers from 1 to 10:"
      ],
      "metadata": {
        "id": "GvqJIG5Ld_IT"
      }
    },
    {
      "cell_type": "code",
      "source": [
        "i = 1\n",
        "while i <= 10:\n",
        "    print(i, end=' ')\n",
        "    i += 1\n"
      ],
      "metadata": {
        "id": "ODqF3klqeJYy"
      },
      "execution_count": null,
      "outputs": []
    },
    {
      "cell_type": "markdown",
      "source": [
        "## **Example 2: Filtering Transactions**\n",
        "Let’s identify transactions divisible by either 5 or 7 within a range of amounts:\n",
        "\n"
      ],
      "metadata": {
        "id": "eCm9G6ZOePpB"
      }
    },
    {
      "cell_type": "code",
      "source": [
        "i = 1\n",
        "while i <= 50:\n",
        "    if i % 5 == 0 or i % 7 == 0:\n",
        "        print(i, end=' ')\n",
        "    i += 1\n"
      ],
      "metadata": {
        "id": "DCxb0MEFeWBG"
      },
      "execution_count": null,
      "outputs": []
    },
    {
      "cell_type": "markdown",
      "source": [
        "## **Example 3: Calculating the Sum of Squares**\n",
        "We can calculate the sum of squares for the first 15 natural numbers using a while loop:"
      ],
      "metadata": {
        "id": "2ij2vI3eeaeY"
      }
    },
    {
      "cell_type": "code",
      "source": [
        "num = 15\n",
        "summation = 0\n",
        "c = 1\n",
        "\n",
        "while c <= num:\n",
        "    summation += c ** 2\n",
        "    c += 1\n",
        "\n",
        "print(\"The sum of squares is:\", summation)\n"
      ],
      "metadata": {
        "id": "n-Vpa8k6eegc"
      },
      "execution_count": null,
      "outputs": []
    },
    {
      "cell_type": "markdown",
      "source": [
        "## **Example 3 (Finance):**"
      ],
      "metadata": {
        "id": "R1U_W0hl6Vi1"
      }
    },
    {
      "cell_type": "code",
      "source": [
        "target_savings = 10000\n",
        "current_savings = 0\n",
        "monthly_contribution = 1500\n",
        "\n",
        "while current_savings < target_savings:\n",
        "    current_savings += monthly_contribution\n",
        "    print(f\"Current Savings: {current_savings}\")\n",
        "\n",
        "print(\"Target reached!\")\n"
      ],
      "metadata": {
        "id": "JQHq7-5H6cmE"
      },
      "execution_count": null,
      "outputs": []
    },
    {
      "cell_type": "markdown",
      "source": [
        "# Using else with a while Loop\n",
        "An else block can be attached to a while loop and runs when the loop ends naturally (without a break).\n",
        "\n",
        "## **Example (Finance):**"
      ],
      "metadata": {
        "id": "_b7RXa9j6ezH"
      }
    },
    {
      "cell_type": "code",
      "source": [
        "balance = 5000\n",
        "withdraw_amount = 1000\n",
        "\n",
        "while balance > 0:\n",
        "    balance -= withdraw_amount\n",
        "    print(f\"Remaining balance: {balance}\")\n",
        "else:\n",
        "    print(\"No more funds left!\")\n"
      ],
      "metadata": {
        "id": "tfGBPDB46rgx"
      },
      "execution_count": null,
      "outputs": []
    },
    {
      "cell_type": "markdown",
      "source": [
        "# Control Statements in Detail\n",
        "## 1. 1. Python break Statement\n",
        "The break statement is used to exit a loop immediately when a specific condition is met. It halts the loop execution and transfers control to the first statement after the loop.\n",
        "\n",
        "This is particularly useful in finance when searching for a specific transaction or when certain conditions require stopping further processing.\n",
        "\n",
        "\n"
      ],
      "metadata": {
        "id": "E7Fwmg4m6iMw"
      }
    },
    {
      "cell_type": "markdown",
      "source": [
        "## Syntax"
      ],
      "metadata": {
        "id": "yO1_wLOSlEpZ"
      }
    },
    {
      "cell_type": "code",
      "source": [
        "# Within a loop:\n",
        "break\n"
      ],
      "metadata": {
        "id": "RHx2QrW8lJNv"
      },
      "execution_count": null,
      "outputs": []
    },
    {
      "cell_type": "markdown",
      "source": [
        "# Example 1: Stop Loop When Transaction Threshold is Found"
      ],
      "metadata": {
        "id": "bJuptYrilQGP"
      }
    },
    {
      "cell_type": "code",
      "source": [
        "transactions = [500, 1200, 2500, 4000, 300]\n",
        "threshold = 2500\n",
        "\n",
        "for transaction in transactions:\n",
        "    if transaction >= threshold:\n",
        "        print(f\"Threshold transaction found: ${transaction}\")\n",
        "        break  # Exit the loop when the threshold is reached\n",
        "    print(f\"Processed transaction: ${transaction}\")\n"
      ],
      "metadata": {
        "id": "KTrCufbMlR39"
      },
      "execution_count": null,
      "outputs": []
    },
    {
      "cell_type": "markdown",
      "source": [
        "# Example 2: Exit an Infinite while Loop"
      ],
      "metadata": {
        "id": "Dbgu7TvelTs_"
      }
    },
    {
      "cell_type": "code",
      "source": [
        "balance = 10000\n",
        "monthly_expense = 1500\n",
        "\n",
        "while True:\n",
        "    balance -= monthly_expense\n",
        "    print(f\"Remaining balance: ${balance}\")\n",
        "    if balance < 5000:  # Stop when balance falls below a threshold\n",
        "        print(\"Alert: Low balance!\")\n",
        "        break\n"
      ],
      "metadata": {
        "id": "Gmkc9A0AlZEq"
      },
      "execution_count": null,
      "outputs": []
    },
    {
      "cell_type": "markdown",
      "source": [
        "# Example 3: Nested Loops for Budgeting"
      ],
      "metadata": {
        "id": "DsY4MorKldEn"
      }
    },
    {
      "cell_type": "code",
      "source": [
        "departments = [\"Marketing\", \"Finance\", \"HR\"]\n",
        "budgets = [5000, 10000, 3000]\n",
        "\n",
        "for department in departments:\n",
        "    for budget in budgets:\n",
        "        if budget > 8000:\n",
        "            print(f\"High budget found in {department}: ${budget}\")\n",
        "            break  # Exit the inner loop\n"
      ],
      "metadata": {
        "id": "nOjFdI6glesI"
      },
      "execution_count": null,
      "outputs": []
    },
    {
      "cell_type": "markdown",
      "source": [
        "## Example 4 (Finance):"
      ],
      "metadata": {
        "id": "pC8cxDLTlHLX"
      }
    },
    {
      "cell_type": "code",
      "source": [
        "transactions = [500, 1500, 200, 700, 2500]\n",
        "limit = 2000\n",
        "\n",
        "for transaction in transactions:\n",
        "    if transaction > limit:\n",
        "        print(\"Transaction exceeds the limit! Stopping...\")\n",
        "        break\n",
        "    print(f\"Processed transaction: {transaction}\")\n"
      ],
      "metadata": {
        "id": "V08rwxin65mo"
      },
      "execution_count": null,
      "outputs": []
    },
    {
      "cell_type": "markdown",
      "source": [
        "# 2. Python continue Statement\n",
        "The continue statement skips the current iteration of the loop and moves to the next one. This is useful when certain data points or conditions do not require processing, such as invalid transactions.\n",
        "\n"
      ],
      "metadata": {
        "id": "vKnAu56T7B7r"
      }
    },
    {
      "cell_type": "markdown",
      "source": [
        "# Syntax"
      ],
      "metadata": {
        "id": "2IAXiLk1lrRL"
      }
    },
    {
      "cell_type": "code",
      "source": [
        "# Within a loop:\n",
        "continue\n"
      ],
      "metadata": {
        "id": "R3OF82G-lwb2"
      },
      "execution_count": null,
      "outputs": []
    },
    {
      "cell_type": "markdown",
      "source": [
        "# Example 1: Skip Invalid Transactions"
      ],
      "metadata": {
        "id": "QlORnEYylyS4"
      }
    },
    {
      "cell_type": "code",
      "source": [
        "transactions = [500, -200, 1200, 300, -50]\n",
        "\n",
        "for transaction in transactions:\n",
        "    if transaction < 0:\n",
        "        print(\"Invalid transaction skipped\")\n",
        "        continue  # Skip processing for negative values\n",
        "    print(f\"Processed transaction: ${transaction}\")\n"
      ],
      "metadata": {
        "id": "GZgtLj1Sl1ua"
      },
      "execution_count": null,
      "outputs": []
    },
    {
      "cell_type": "markdown",
      "source": [
        "# Example 2: Skip Certain Departments in a Budget Report"
      ],
      "metadata": {
        "id": "hY9Jen2Cl5iL"
      }
    },
    {
      "cell_type": "code",
      "source": [
        "departments = [\"Marketing\", \"Finance\", \"HR\", \"Admin\"]\n",
        "ignore_department = \"HR\"\n",
        "\n",
        "for department in departments:\n",
        "    if department == ignore_department:\n",
        "        continue  # Skip processing for the \"HR\" department\n",
        "    print(f\"Generating report for {department}\")\n"
      ],
      "metadata": {
        "id": "VoNFTNjPl8od"
      },
      "execution_count": null,
      "outputs": []
    },
    {
      "cell_type": "markdown",
      "source": [
        "## Example 3 (Finance):"
      ],
      "metadata": {
        "id": "5636zH0ZlvBH"
      }
    },
    {
      "cell_type": "code",
      "source": [
        "transactions = [500, 0, 1500, 0, 700]\n",
        "\n",
        "for transaction in transactions:\n",
        "    if transaction == 0:\n",
        "        print(\"Skipping invalid transaction...\")\n",
        "        continue\n",
        "    print(f\"Processed transaction: {transaction}\")\n"
      ],
      "metadata": {
        "id": "Cpx9wEEf7LLx"
      },
      "execution_count": null,
      "outputs": []
    },
    {
      "cell_type": "markdown",
      "source": [
        "# 3. Python pass Statement\n",
        "The pass statement is a placeholder that allows you to write syntactically correct code without executing anything. It is helpful when defining loops, functions, or classes that you plan to implement later.\n"
      ],
      "metadata": {
        "id": "hmrrksAH7POQ"
      }
    },
    {
      "cell_type": "markdown",
      "source": [
        "# Syntax"
      ],
      "metadata": {
        "id": "WLbSCfq3mHJA"
      }
    },
    {
      "cell_type": "code",
      "source": [
        "# Within a loop, function, or class:\n",
        "pass\n"
      ],
      "metadata": {
        "id": "JMAyU3lImKcR"
      },
      "execution_count": null,
      "outputs": []
    },
    {
      "cell_type": "markdown",
      "source": [
        "# Example 1: Placeholder for Financial Audit Check"
      ],
      "metadata": {
        "id": "kzekgKSAn5Nr"
      }
    },
    {
      "cell_type": "code",
      "source": [
        "transactions = [500, 1200, 2500, 4000]\n",
        "\n",
        "for transaction in transactions:\n",
        "    if transaction > 3000:\n",
        "        pass  # Placeholder for future fraud-check logic\n",
        "    else:\n",
        "        print(f\"Processed transaction: ${transaction}\")\n"
      ],
      "metadata": {
        "id": "22WtgadGn7S9"
      },
      "execution_count": null,
      "outputs": []
    },
    {
      "cell_type": "markdown",
      "source": [
        "# Example 2: Define Empty Functions or Classes"
      ],
      "metadata": {
        "id": "EcllZS3kn9m8"
      }
    },
    {
      "cell_type": "code",
      "source": [
        "# Placeholder function for a future financial calculation\n",
        "def calculate_tax():\n",
        "    pass  # To be implemented later\n",
        "\n",
        "# Placeholder class for a finance-related feature\n",
        "class BudgetPlanner:\n",
        "    pass\n"
      ],
      "metadata": {
        "id": "uDOu0akToBoU"
      },
      "execution_count": null,
      "outputs": []
    },
    {
      "cell_type": "markdown",
      "source": [
        "## Example 3 (Finance):"
      ],
      "metadata": {
        "id": "Tx5Doh5JmFyu"
      }
    },
    {
      "cell_type": "code",
      "source": [
        "transactions = [1000, 2000, 0, 1500]\n",
        "\n",
        "for transaction in transactions:\n",
        "    if transaction == 0:\n",
        "        pass  # Placeholder for future code\n",
        "    else:\n",
        "        print(f\"Transaction: {transaction}\")\n"
      ],
      "metadata": {
        "id": "mgkc_-u17P8V"
      },
      "execution_count": null,
      "outputs": []
    },
    {
      "cell_type": "markdown",
      "source": [
        "# Key Differences Between continue and pass\n",
        "<Table><tr><th>Feature\t<th>continue\t<th>pass</tr>\n",
        "<tr><td>Action\t<td>Skips the current iteration and moves to the next\t<td>Does nothing (a placeholder)</tr>\n",
        "<tr><td>Loop <td>Behavior\tTakes control back to the start of the loop\t<td>Doesn't affect loop execution</tr>\n",
        "<tr><td>Use Case\t<td>Skipping specific data points or iterations\t<td>Writing incomplete functions or logic</tr></table>"
      ],
      "metadata": {
        "id": "QYPujcMJoEKd"
      }
    },
    {
      "cell_type": "markdown",
      "source": [
        "# Conclusion\n",
        "The break, continue, and pass statements are essential tools for controlling the flow of loops in Python. These statements are particularly useful for finance students handling large datasets, reports, and iterative calculations. Understanding when to use each of these statements can simplify complex logic and improve code efficiency in financial applications."
      ],
      "metadata": {
        "id": "Wpo9xmVlo3uH"
      }
    },
    {
      "cell_type": "markdown",
      "source": [
        "# Real-World Examples for Finance Students\n",
        "# 1. Calculating Compound Interest\n",
        "Use a while loop to calculate compound interest for a savings account over 5 years:"
      ],
      "metadata": {
        "id": "QvgPvx3bkOTe"
      }
    },
    {
      "cell_type": "code",
      "source": [
        "principal = 10000  # Initial investment\n",
        "rate = 5  # Annual interest rate in %\n",
        "time = 5  # Time in years\n",
        "\n",
        "year = 1\n",
        "while year <= time:\n",
        "    principal += (principal * rate / 100)\n",
        "    print(f\"Year {year}: ${principal:.2f}\")\n",
        "    year += 1\n"
      ],
      "metadata": {
        "id": "Y-mY7QTLkSQl"
      },
      "execution_count": null,
      "outputs": []
    },
    {
      "cell_type": "markdown",
      "source": [
        "# 2. Generating a Multiplication Table\n",
        "Print the multiplication table for a given financial amount, such as monthly installments:"
      ],
      "metadata": {
        "id": "l13NSCROkUJw"
      }
    },
    {
      "cell_type": "code",
      "source": [
        "installment = 250\n",
        "counter = 1\n",
        "\n",
        "print(f\"Multiplication Table for Installment: {installment}\")\n",
        "while counter <= 10:\n",
        "    result = installment * counter\n",
        "    print(f\"{installment} x {counter} = {result}\")\n",
        "    counter += 1\n"
      ],
      "metadata": {
        "id": "gjFXVEs1kW46"
      },
      "execution_count": null,
      "outputs": []
    },
    {
      "cell_type": "markdown",
      "source": [
        "# 3. Identifying Even and Odd Transactions\n",
        "Determine whether transaction amounts are even or odd:"
      ],
      "metadata": {
        "id": "uvPz1n16kYse"
      }
    },
    {
      "cell_type": "code",
      "source": [
        "transactions = [200, 350, 500, 150, 400]\n",
        "index = 0\n",
        "\n",
        "while index < len(transactions):\n",
        "    transaction = transactions[index]\n",
        "    if transaction % 2 == 0:\n",
        "        print(f\"${transaction} is an even amount.\")\n",
        "    else:\n",
        "        print(f\"${transaction} is an odd amount.\")\n",
        "    index += 1\n"
      ],
      "metadata": {
        "id": "dCYjQpHykcb2"
      },
      "execution_count": null,
      "outputs": []
    },
    {
      "cell_type": "markdown",
      "source": [
        "# 4. Validating Input\n",
        "Use a while loop to ensure a user enters a valid amount (e.g., greater than zero):"
      ],
      "metadata": {
        "id": "vstwNvYYkfGw"
      }
    },
    {
      "cell_type": "code",
      "source": [
        "amount = -1\n",
        "\n",
        "while amount <= 0:\n",
        "    amount = float(input(\"Enter a positive amount: \"))\n",
        "    if amount <= 0:\n",
        "        print(\"Invalid amount! Please try again.\")\n",
        "\n",
        "print(f\"Amount accepted: ${amount:.2f}\")\n"
      ],
      "metadata": {
        "id": "vtQodxQykg9m"
      },
      "execution_count": null,
      "outputs": []
    },
    {
      "cell_type": "markdown",
      "source": [
        "# Advanced Usage: Multiple Conditions\n",
        "Handle more complex scenarios by combining multiple conditions using logical operators.\n",
        "\n",
        "## **Example: Loan Eligibility Check**"
      ],
      "metadata": {
        "id": "Ca3fO8C2kj1i"
      }
    },
    {
      "cell_type": "code",
      "source": [
        "age = 25\n",
        "income = 40000\n",
        "\n",
        "while age < 60 and income >= 30000:\n",
        "    print(f\"Eligible for loan. Age: {age}, Income: ${income}\")\n",
        "    age += 5  # Increment age for simulation\n",
        "    income -= 5000  # Simulate decreasing income\n"
      ],
      "metadata": {
        "id": "MMYY18OIkoEM"
      },
      "execution_count": null,
      "outputs": []
    },
    {
      "cell_type": "markdown",
      "source": [
        "# Summary\n",
        "The Python while loop is a flexible and powerful tool for handling repetitive tasks in finance, from calculating interest to analyzing transactions. By combining it with control statements and logical operators, finance students can create efficient solutions for a variety of real-world problems."
      ],
      "metadata": {
        "id": "zf5u4j0zksDB"
      }
    },
    {
      "cell_type": "markdown",
      "source": [
        "# Nested Loops\n",
        "\n",
        "A nested loop is a loop inside another loop. These are useful for handling multi-dimensional data.\n",
        "\n",
        "\n",
        "## **Example 1: (Finance):**"
      ],
      "metadata": {
        "id": "6nivr9CN7eWA"
      }
    },
    {
      "cell_type": "code",
      "source": [
        "# Monthly expenses for different departments\n",
        "departments = [\"Marketing\", \"Finance\", \"HR\"]\n",
        "monthly_expenses = [1000, 2000, 3000]\n",
        "\n",
        "for department in departments:\n",
        "    print(f\"Expenses for {department}:\")\n",
        "    for expense in monthly_expenses:\n",
        "        print(f\" - ${expense}\")\n"
      ],
      "metadata": {
        "id": "z_GNYLkY7jQI"
      },
      "execution_count": null,
      "outputs": []
    },
    {
      "cell_type": "markdown",
      "source": [
        "## **Example 2: Calculating Department-Wise Total Revenue**"
      ],
      "metadata": {
        "id": "DkezdpOLchLT"
      }
    },
    {
      "cell_type": "code",
      "source": [
        "# Revenues of departments across 3 months\n",
        "departments = [\"Marketing\", \"Finance\", \"HR\"]\n",
        "monthly_revenues = [\n",
        "    [1000, 1500, 1200],  # Marketing\n",
        "    [2000, 2500, 2400],  # Finance\n",
        "    [800, 900, 950]      # HR\n",
        "]\n",
        "\n",
        "# Calculate total revenue for each department\n",
        "for i in range(len(departments)):\n",
        "    total_revenue = 0\n",
        "    for revenue in monthly_revenues[i]:\n",
        "        total_revenue += revenue\n",
        "    print(f\"Total revenue for {departments[i]}: ${total_revenue}\")\n"
      ],
      "metadata": {
        "id": "FgeHKcMKcqv3"
      },
      "execution_count": null,
      "outputs": []
    },
    {
      "cell_type": "markdown",
      "source": [
        "# **Practical Example: Combining For Loop with a Function**\n",
        "Here’s an example of retrieving a student’s score using a dictionary and combining it with a for loop and else statement."
      ],
      "metadata": {
        "id": "G_-jtqwCcvXn"
      }
    },
    {
      "cell_type": "code",
      "source": [
        "# Student records (name and score)\n",
        "student_records = {\"Itika\": 90, \"Arshia\": 85, \"Peter\": 70}\n",
        "\n",
        "# Function to get student marks\n",
        "def get_marks(student_name):\n",
        "    for student in student_records:\n",
        "        if student == student_name:\n",
        "            return student_records[student]\n",
        "    else:\n",
        "        return f\"No records found for {student_name}.\"\n",
        "\n",
        "# Checking scores for two students\n",
        "print(f\"Marks for Itika: {get_marks('Itika')}\")\n",
        "print(f\"Marks for Parker: {get_marks('Parker')}\")\n"
      ],
      "metadata": {
        "id": "up4I9eMBcyzo"
      },
      "execution_count": null,
      "outputs": []
    },
    {
      "cell_type": "markdown",
      "source": [
        "# Summary\n",
        "The for loop is an essential tool in Python for iterating over sequences, making it highly valuable for finance applications. Whether you're analyzing transaction data, adjusting account balances, or calculating metrics, for loops simplify repetitive tasks. By mastering this construct and combining it with other Python features, such as functions and conditional statements, you can efficiently solve complex finance-related problems."
      ],
      "metadata": {
        "id": "Q_VzdyaJc3IX"
      }
    },
    {
      "cell_type": "markdown",
      "source": [
        "# Python Strings\n",
        "In Python, strings are one of the most commonly used data types. A string is a sequence of characters enclosed in single quotes ('), double quotes (\"), or triple quotes (''' or \"\"\"). Strings are used extensively in finance to handle textual data like transaction descriptions, customer names, and account numbers."
      ],
      "metadata": {
        "id": "dQDMt6pgpNFp"
      }
    },
    {
      "cell_type": "markdown",
      "source": [
        "# What is a Python String?\n",
        "Python strings are collections of Unicode characters. Internally, strings are stored as a sequence of binary digits (0s and 1s). Strings in Python are immutable, meaning they cannot be changed after creation."
      ],
      "metadata": {
        "id": "B3RTGLOspaaZ"
      }
    },
    {
      "cell_type": "markdown",
      "source": [
        "# Creating Strings\n",
        "You can create strings in Python using:\n",
        "\n",
        "1. Single quotes: 'Hello'\n",
        "2. Double quotes: \"Hello\"\n",
        "3. Triple quotes: '''Hello''' or \"\"\"Hello\"\"\" (commonly used for multiline strings).\n",
        "\n",
        "## Examples:"
      ],
      "metadata": {
        "id": "vwMF09xTpebe"
      }
    },
    {
      "cell_type": "code",
      "source": [
        "# Using single quotes\n",
        "message = 'Transaction Successful'\n",
        "print(message)\n",
        "\n",
        "# Using double quotes\n",
        "name = \"Customer Name: John Doe\"\n",
        "print(name)\n",
        "\n",
        "# Using triple quotes for multiline strings\n",
        "details = '''Transaction Details:\n",
        "Amount: $500\n",
        "Date: 01-Jan-2024'''\n",
        "print(details)\n"
      ],
      "metadata": {
        "id": "DO1-96oMrhis"
      },
      "execution_count": null,
      "outputs": []
    },
    {
      "cell_type": "markdown",
      "source": [
        "# String Indexing and Slicing\n",
        "Strings in Python can be accessed using indexing and slicing. Indexing starts at 0 for the first character and goes up to n-1 for the last character. Negative indexing can also be used, where -1 refers to the last character.\n",
        "\n",
        "## Example 1: Indexing"
      ],
      "metadata": {
        "id": "WlMjkE_-rlt1"
      }
    },
    {
      "cell_type": "code",
      "source": [
        "account_number = \"123456789\"\n",
        "\n",
        "# Accessing characters\n",
        "print(account_number[0])  # First character\n",
        "print(account_number[-1])  # Last character\n",
        "\n"
      ],
      "metadata": {
        "id": "svECEFJgrom-"
      },
      "execution_count": null,
      "outputs": []
    },
    {
      "cell_type": "markdown",
      "source": [
        "## Example 2: Slicing"
      ],
      "metadata": {
        "id": "YJUecBx8rq_7"
      }
    },
    {
      "cell_type": "code",
      "source": [
        "transaction_id = \"TXN123456\"\n",
        "\n",
        "# Extract parts of the string\n",
        "print(transaction_id[3:9])  # Extract \"123456\"\n",
        "print(transaction_id[:3])  # Extract \"TXN\"\n",
        "print(transaction_id[3:])  # Extract \"123456\"\n"
      ],
      "metadata": {
        "id": "I2Fp-TRPr1X0"
      },
      "execution_count": null,
      "outputs": []
    },
    {
      "cell_type": "markdown",
      "source": [
        "## Example 3: Negative Slicing"
      ],
      "metadata": {
        "id": "1Pp8alZlr5tg"
      }
    },
    {
      "cell_type": "code",
      "source": [
        "transaction_id = \"TXN123456\"\n",
        "\n",
        "# Reverse the string\n",
        "print(transaction_id[::-1])  # Output: \"654321NXT\"\n"
      ],
      "metadata": {
        "id": "8iJaXG0Rr7Vh"
      },
      "execution_count": null,
      "outputs": []
    },
    {
      "cell_type": "markdown",
      "source": [
        "# Concatenation and Repetition\n",
        "\n",
        "1. Concatenation (+): Combines two or more strings.\n",
        "2. Repetition (*): Repeats the string multiple times.\n",
        "\n",
        "## Example:"
      ],
      "metadata": {
        "id": "5Qj78K3Zr_pe"
      }
    },
    {
      "cell_type": "code",
      "source": [
        "# Concatenation\n",
        "bank_name = \"Bank of \"\n",
        "branch = \"America\"\n",
        "print(bank_name + branch)  # Output: \"Bank of America\"\n",
        "\n",
        "# Repetition\n",
        "separator = \"-\"\n",
        "print(separator * 10)  # Output: \"----------\"\n"
      ],
      "metadata": {
        "id": "MOW8vVT2sFQu"
      },
      "execution_count": null,
      "outputs": []
    },
    {
      "cell_type": "markdown",
      "source": [
        "# String Methods\n",
        "Python provides several built-in methods for string manipulation. Below are commonly used methods with financial examples:\n",
        "\n",
        "<table><tr><th>Method\t<th>Description\t<th>Example</tr>\n",
        "<tr><td>upper()\t<td>Converts string to uppercase\t<td>\"txn123\".upper() → \"TXN123\"</tr>\n",
        "<tr><td>lower()\t<td>Converts string to lowercase\t<td>\"ACCOUNT\".lower() → \"account\"\n",
        "<tr><td>strip()\t<td>Removes leading/trailing spaces\t<td>\" Transaction \".strip() → \"Transaction\"</tr>\n",
        "<tr><td>split()\t<td>Splits string into a list\t<td>\"A,B,C\".split(\",\") → ['A', 'B', 'C']</tr>\n",
        "<tr><td>join()\t<td>Joins elements of a list into a string\t<td>`\"</tr>\n",
        "<tr><td>replace()\t<td>Replaces parts of the string\t<td>\"TXN123\".replace(\"TXN\", \"Transaction\") → \"Transaction123\"</tr>\n",
        "<tr><td>isdigit()\t<td>Checks if string contains only digits\t<td>\"12345\".isdigit() → True</tr>\n",
        "<tr><td>isalpha()\t<td>Checks if string contains only alphabetic chars\t<td>\"Bank\".isalpha() → True</tr>\n",
        "<tr><td>startswith()\t<td>Checks if string starts with a substring<td>\t\"Account123\".startswith(\"Account\") → True</tr>\n"
      ],
      "metadata": {
        "id": "7jwkx9bQsNGX"
      }
    },
    {
      "cell_type": "markdown",
      "source": [
        "# Real-World Examples\n",
        "\n",
        "## **1. Extracting Customer Names**"
      ],
      "metadata": {
        "id": "VowI9PBotikp"
      }
    },
    {
      "cell_type": "code",
      "source": [
        "customer_info = \"Name: John Doe, Account: 123456\"\n",
        "\n",
        "# Extract name\n",
        "start = customer_info.find(\"Name:\") + len(\"Name: \")\n",
        "end = customer_info.find(\", Account:\")\n",
        "name = customer_info[start:end].strip()\n",
        "print(f\"Customer Name: {name}\")\n"
      ],
      "metadata": {
        "id": "PaijLjsJtq-I"
      },
      "execution_count": null,
      "outputs": []
    },
    {
      "cell_type": "markdown",
      "source": [
        "## 2. Masking Sensitive Data"
      ],
      "metadata": {
        "id": "VN2ZhIQGtufL"
      }
    },
    {
      "cell_type": "code",
      "source": [
        "account_number = \"1234567890\"\n",
        "\n",
        "# Mask all but the last 4 digits\n",
        "masked = \"*\" * (len(account_number) - 4) + account_number[-4:]\n",
        "print(f\"Masked Account Number: {masked}\")\n"
      ],
      "metadata": {
        "id": "DRFnG_-Stwds"
      },
      "execution_count": null,
      "outputs": []
    },
    {
      "cell_type": "markdown",
      "source": [
        "## 3. Formatting Transaction Messages"
      ],
      "metadata": {
        "id": "ap2N7yZFt1As"
      }
    },
    {
      "cell_type": "code",
      "source": [
        "transaction_id = \"TXN12345\"\n",
        "amount = 500\n",
        "customer_name = \"John Doe\"\n",
        "\n",
        "message = f\"Dear {customer_name}, your transaction {transaction_id} of ${amount} was successful.\"\n",
        "print(message)\n"
      ],
      "metadata": {
        "id": "fCyTVZo6t4IC"
      },
      "execution_count": null,
      "outputs": []
    },
    {
      "cell_type": "markdown",
      "source": [
        "# String Formatting\n",
        "Python provides multiple ways to format strings:\n",
        "\n",
        "## 1. Using format() Method"
      ],
      "metadata": {
        "id": "oERrpcuOt9J1"
      }
    },
    {
      "cell_type": "code",
      "source": [
        "template = \"Dear {name}, your balance is ${balance:.2f}.\"\n",
        "print(template.format(name=\"John Doe\", balance=1234.56))\n"
      ],
      "metadata": {
        "id": "dcA9jh62uCwI"
      },
      "execution_count": null,
      "outputs": []
    },
    {
      "cell_type": "markdown",
      "source": [
        "## 2. Using f-Strings (Recommended)"
      ],
      "metadata": {
        "id": "fiG17RUkuGLi"
      }
    },
    {
      "cell_type": "code",
      "source": [
        "name = \"John Doe\"\n",
        "balance = 1234.56\n",
        "print(f\"Dear {name}, your balance is ${balance:.2f}.\")\n"
      ],
      "metadata": {
        "id": "aNGCgOQNuK6T"
      },
      "execution_count": null,
      "outputs": []
    },
    {
      "cell_type": "markdown",
      "source": [
        "# Escape Characters\n",
        "Escape characters allow you to include special characters in strings. Some common ones include:\n",
        "\n",
        "<Table><tr><th>Escape Sequence\t<th>Description\t<th>Example</tr>\n",
        "<tr><td>\\'\t<td>Single quote\t<td>'It\\'s a transaction' → It's a transaction</tr>\n",
        "<tr><td>\\\"\t<td>Double quote\t<td>\"\\\"Transaction Complete\\\"\" → \"Transaction Complete\"</tr>\n",
        "<tr><td>\\\\\t<td>Backslash\t<td>\"C:\\\\Bank\\\\Transactions\" → C:\\Bank\\Transactions</tr>\n",
        "<tr><td>\\n\t<td>Newline\t<td>\"Transaction\\nComplete\" → Transaction (newline) Complete</tr>\n",
        "<tr><td>\\t\t<td>Tab\t<td>\"Account\\tBalance\" → Account (tab) Balance</tr></table>"
      ],
      "metadata": {
        "id": "Dy3Mns3luLwL"
      }
    },
    {
      "cell_type": "markdown",
      "source": [
        "## Example:"
      ],
      "metadata": {
        "id": "zebO3ZnPu3qW"
      }
    },
    {
      "cell_type": "code",
      "source": [
        "message = \"Dear Customer,\\nYour transaction was successful.\\nThank you!\"\n",
        "print(message)\n"
      ],
      "metadata": {
        "id": "Fscoqb0rpkY1"
      },
      "execution_count": null,
      "outputs": []
    },
    {
      "cell_type": "markdown",
      "source": [
        "# Summary\n",
        "Strings in Python are versatile and powerful tools for handling textual data. In finance, they are essential for processing transactions, generating reports, and managing customer details. By mastering string manipulation, finance students can automate repetitive tasks and improve data handling efficiency."
      ],
      "metadata": {
        "id": "WyRWMPhyu8rz"
      }
    }
  ]
}