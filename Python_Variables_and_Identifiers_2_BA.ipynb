{
 "cells": [
  {
   "cell_type": "markdown",
   "id": "9442c7f4-b667-4132-b542-8badef14be73",
   "metadata": {
    "id": "9442c7f4-b667-4132-b542-8badef14be73"
   },
   "source": [
    "# Python Variables and Identifiers"
   ]
  },
  {
   "cell_type": "markdown",
   "id": "02f77afa-5350-43b5-997f-3a95b70638ec",
   "metadata": {
    "id": "02f77afa-5350-43b5-997f-3a95b70638ec"
   },
   "source": [
    "# Introduction to Variables\n",
    "\n",
    "A variable in Python is essentially a name given to a memory location where data is stored. Think of it as a container that holds information which can be used and modified throughout a program. In finance, you might use variables to store values such as interest rates, principal amounts, or monthly installments. For example:"
   ]
  },
  {
   "cell_type": "code",
   "execution_count": null,
   "id": "79941264-1fc6-482d-acea-cd88e1b18c93",
   "metadata": {
    "id": "79941264-1fc6-482d-acea-cd88e1b18c93"
   },
   "outputs": [],
   "source": [
    "interest_rate = 0.05  # Annual interest rate\n",
    "principal = 10000     # Loan amount in dollars"
   ]
  },
  {
   "cell_type": "markdown",
   "id": "328ddd67-9e5a-4662-b995-abdce57cceb0",
   "metadata": {
    "id": "328ddd67-9e5a-4662-b995-abdce57cceb0"
   },
   "source": [
    "Python does not require you to declare the type of a variable explicitly. This feature makes Python an \"infer\" language—it automatically determines the type of the value assigned to the variable."
   ]
  },
  {
   "cell_type": "markdown",
   "id": "8fbd3abb-44d2-469a-9b1e-3e977116fa70",
   "metadata": {
    "id": "8fbd3abb-44d2-469a-9b1e-3e977116fa70"
   },
   "source": [
    "# Naming Rules for Variables\n",
    "\n",
    "When naming variables in Python, you need to follow certain rules to ensure that your code is understandable and functional:\n",
    "\n",
    "## Start with a letter or an underscore (_):\n",
    "\n",
    "**Valid:** rate_of_return, _profit_margin\n",
    "\n",
    "**Invalid:** 1interest_rate\n",
    "\n",
    "## Use letters, numbers, and underscores:\n",
    "\n",
    "**Valid:** net_income2023, loan_amount\n",
    "\n",
    "**Invalid:** net-income!, loan@amount\n",
    "\n",
    "## Avoid using Python keywords:\n",
    "\n",
    "Python keywords **(e.g., if, while, return)** cannot be used as variable names.\n",
    "\n",
    "## Be case-sensitive:\n",
    "\n",
    "**interest_rate** and **Interest_Rate** are two different variables."
   ]
  },
  {
   "cell_type": "markdown",
   "id": "2d54ae20-9019-4fa6-bfbb-40257b15bff1",
   "metadata": {
    "id": "2d54ae20-9019-4fa6-bfbb-40257b15bff1"
   },
   "source": [
    "# Best Practices for Variable Names\n",
    "\n",
    "To make your code clear and professional:\n",
    "\n",
    "- Use **lowercase letters.**\n",
    "\n",
    "- Use **descriptive names** to reflect the **purpose** of the variable, e.g., investment_period is better than ip.\n",
    "\n",
    "- **Avoid** using names that are **too short or cryptic**.\n",
    "\n",
    "## For example, instead of this:"
   ]
  },
  {
   "cell_type": "code",
   "execution_count": null,
   "id": "7a43a08d-9c1c-4dd1-9b12-1b7261ee7348",
   "metadata": {
    "id": "7a43a08d-9c1c-4dd1-9b12-1b7261ee7348"
   },
   "outputs": [],
   "source": [
    "a = 10000\n",
    "b = 0.05\n",
    "c = 12"
   ]
  },
  {
   "cell_type": "markdown",
   "id": "34d7eb35-4bb7-4c89-ba79-fe876c53ede1",
   "metadata": {
    "id": "34d7eb35-4bb7-4c89-ba79-fe876c53ede1"
   },
   "source": [
    "## Use this"
   ]
  },
  {
   "cell_type": "code",
   "execution_count": null,
   "id": "e6f93a71-cdb4-46b5-a794-e4d518a88e97",
   "metadata": {
    "id": "e6f93a71-cdb4-46b5-a794-e4d518a88e97"
   },
   "outputs": [],
   "source": [
    "principal_amount = 10000\n",
    "annual_rate = 0.05\n",
    "months = 12"
   ]
  },
  {
   "cell_type": "markdown",
   "id": "098a47cb-f5bd-4b24-8f4b-f4cf3ed68f4f",
   "metadata": {
    "id": "098a47cb-f5bd-4b24-8f4b-f4cf3ed68f4f"
   },
   "source": [
    "# Assigning Values to Variables\n",
    "\n",
    "Python allows you to **assign values to variables using the = operator.**\n",
    "\n",
    "## Example:"
   ]
  },
  {
   "cell_type": "code",
   "execution_count": null,
   "id": "f52e40ba-a10b-40ef-b7e4-6df14968a136",
   "metadata": {
    "id": "f52e40ba-a10b-40ef-b7e4-6df14968a136"
   },
   "outputs": [],
   "source": [
    "roi = 0.10  # Return on investment\n",
    "investment = 5000  # Initial investment"
   ]
  },
  {
   "cell_type": "markdown",
   "id": "63b7c078-9841-49db-8d33-0c32db5b0688",
   "metadata": {
    "id": "63b7c078-9841-49db-8d33-0c32db5b0688"
   },
   "source": [
    "# Multiple Assignments\n",
    "\n",
    "You can assign values to **multiple variables in one line:**"
   ]
  },
  {
   "cell_type": "code",
   "execution_count": null,
   "id": "38751cf1-6cf1-4444-a503-01ed939fd62c",
   "metadata": {
    "id": "38751cf1-6cf1-4444-a503-01ed939fd62c"
   },
   "outputs": [],
   "source": [
    "profit, loss, breakeven = 2000, 500, 1500"
   ]
  },
  {
   "cell_type": "markdown",
   "id": "bfcdf8b3-0b51-4474-ad09-0246ee59c384",
   "metadata": {
    "id": "bfcdf8b3-0b51-4474-ad09-0246ee59c384"
   },
   "source": [
    "Or **assign the same value to multiple variables:**"
   ]
  },
  {
   "cell_type": "code",
   "execution_count": null,
   "id": "42703301-611c-458d-a0a4-5c0c4f8a3736",
   "metadata": {
    "id": "42703301-611c-458d-a0a4-5c0c4f8a3736"
   },
   "outputs": [],
   "source": [
    "x = y = z = 0  # Initialize multiple variables"
   ]
  },
  {
   "cell_type": "markdown",
   "id": "cec5b69e-7d50-4235-bb20-cf44eee84dff",
   "metadata": {
    "id": "cec5b69e-7d50-4235-bb20-cf44eee84dff"
   },
   "source": [
    "Types of Variables\n",
    "\n",
    "Local Variables:\n",
    "\n",
    "Declared inside a function.\n",
    "\n",
    "Accessible only within that function.\n",
    "\n",
    "Example:"
   ]
  },
  {
   "cell_type": "code",
   "execution_count": null,
   "id": "24bb5f04-138b-412f-8a66-6394110e7ec4",
   "metadata": {
    "id": "24bb5f04-138b-412f-8a66-6394110e7ec4"
   },
   "outputs": [],
   "source": [
    "def calculate_interest():\n",
    "    principal = 10000\n",
    "    rate = 0.05\n",
    "    interest = principal * rate\n",
    "    print(\"Interest:\", interest)\n",
    "\n",
    "calculate_interest()\n",
    "# print(principal)  # Error: principal is not defined outside the function"
   ]
  },
  {
   "cell_type": "markdown",
   "id": "12835492-f55c-4012-8920-f4440c72abc7",
   "metadata": {
    "id": "12835492-f55c-4012-8920-f4440c72abc7"
   },
   "source": [
    "Global Variables:\n",
    "\n",
    "Declared outside of any function and accessible throughout the program.\n",
    "\n",
    "Example:"
   ]
  },
  {
   "cell_type": "code",
   "execution_count": null,
   "id": "506a2751-d358-483b-bee9-fb5e672b547c",
   "metadata": {
    "colab": {
     "base_uri": "https://localhost:8080/"
    },
    "id": "506a2751-d358-483b-bee9-fb5e672b547c",
    "outputId": "4c47bcaa-3bf9-427a-be24-9a467f19b4d7"
   },
   "outputs": [
    {
     "name": "stdout",
     "output_type": "stream",
     "text": [
      "Real Interest Rate: 0.04000000000000001\n"
     ]
    }
   ],
   "source": [
    "inflation_rate = 0.03\n",
    "\n",
    "def calculate_real_rate():\n",
    "    global inflation_rate\n",
    "    nominal_rate = 0.07\n",
    "    real_rate = nominal_rate - inflation_rate\n",
    "    print(\"Real Interest Rate:\", real_rate)\n",
    "\n",
    "calculate_real_rate()"
   ]
  },
  {
   "cell_type": "code",
   "execution_count": null,
   "id": "1xLmQUPzHvLB",
   "metadata": {
    "colab": {
     "base_uri": "https://localhost:8080/"
    },
    "id": "1xLmQUPzHvLB",
    "outputId": "f235fc83-6573-4adb-946f-e0b481a55825"
   },
   "outputs": [
    {
     "name": "stdout",
     "output_type": "stream",
     "text": [
      "0.03\n"
     ]
    }
   ],
   "source": [
    "print(inflation_rate)"
   ]
  },
  {
   "cell_type": "markdown",
   "id": "efd100c0-e26a-4a5c-8619-ad7177a4d697",
   "metadata": {
    "id": "efd100c0-e26a-4a5c-8619-ad7177a4d697"
   },
   "source": [
    "Object References in Python\n",
    "\n",
    "In Python, variables act as references to objects in memory. For example:"
   ]
  },
  {
   "cell_type": "code",
   "execution_count": null,
   "id": "b6824d2c-f0d0-449e-abf0-46247164488d",
   "metadata": {
    "id": "b6824d2c-f0d0-449e-abf0-46247164488d"
   },
   "outputs": [],
   "source": [
    "stock_price = 150"
   ]
  },
  {
   "cell_type": "markdown",
   "id": "561dc223-fef2-4503-9699-89629032a855",
   "metadata": {
    "id": "561dc223-fef2-4503-9699-89629032a855"
   },
   "source": [
    "Here, stock_price points to an integer object holding the value 150. If you assign another variable to it:"
   ]
  },
  {
   "cell_type": "code",
   "execution_count": null,
   "id": "242cda6a-32b3-4834-86f9-f4d3f9297cfe",
   "metadata": {
    "id": "242cda6a-32b3-4834-86f9-f4d3f9297cfe"
   },
   "outputs": [],
   "source": [
    "stock_value = stock_price"
   ]
  },
  {
   "cell_type": "markdown",
   "id": "16ab9a59-8ed5-482f-92dc-f7df4978aace",
   "metadata": {
    "id": "16ab9a59-8ed5-482f-92dc-f7df4978aace"
   },
   "source": [
    "Both variables point to the same object in memory. Modifying one variable’s value doesn’t affect the other."
   ]
  },
  {
   "cell_type": "markdown",
   "id": "07d45d75-22e2-4674-8197-62976c475fcb",
   "metadata": {
    "id": "07d45d75-22e2-4674-8197-62976c475fcb"
   },
   "source": [
    "Using the id() Function\n",
    "\n",
    "Each object in Python has a unique identifier. Use the id() function to view it:"
   ]
  },
  {
   "cell_type": "code",
   "execution_count": null,
   "id": "bcbe9248-d4d5-4978-abf0-7fd7df3bf788",
   "metadata": {
    "id": "bcbe9248-d4d5-4978-abf0-7fd7df3bf788"
   },
   "outputs": [],
   "source": [
    "a = 100\n",
    "print(id(a))"
   ]
  },
  {
   "cell_type": "markdown",
   "id": "0c5074c7-f2b4-4712-a03e-8802aab2f492",
   "metadata": {
    "id": "0c5074c7-f2b4-4712-a03e-8802aab2f492"
   },
   "source": [
    "This can help you understand how Python handles memory and objects."
   ]
  },
  {
   "cell_type": "markdown",
   "id": "a89b66c4-6846-4947-8230-61519fbbd339",
   "metadata": {
    "id": "a89b66c4-6846-4947-8230-61519fbbd339"
   },
   "source": [
    "Variable Naming Conventions\n",
    "\n",
    "Python supports different styles for naming variables:\n",
    "\n",
    "Snake Case: Words are separated by underscores: investment_amount\n",
    "\n",
    "Camel Case: Each word after the first begins with a capital letter: investmentAmount\n",
    "\n",
    "Pascal Case: Each word begins with a capital letter: InvestmentAmount\n",
    "\n",
    "In finance-related coding, snake_case is the most commonly used style for variables.\n",
    "\n"
   ]
  },
  {
   "cell_type": "markdown",
   "id": "44bd9ed8-0edf-4b74-861f-f2e4380c192d",
   "metadata": {
    "id": "44bd9ed8-0edf-4b74-861f-f2e4380c192d"
   },
   "source": [
    "Deleting Variables\n",
    "\n",
    "To delete a variable, use the del keyword:"
   ]
  },
  {
   "cell_type": "code",
   "execution_count": null,
   "id": "8f625012-4564-468c-8457-cb722326bc0c",
   "metadata": {
    "id": "8f625012-4564-468c-8457-cb722326bc0c"
   },
   "outputs": [],
   "source": [
    "fee = 50\n",
    "print(fee)  # Output: 50\n",
    "\n",
    "del fee\n",
    "print(fee)  # Error: name 'fee' is not defined"
   ]
  },
  {
   "cell_type": "markdown",
   "id": "9cbd8b0c-1863-4aaf-b422-ed5c2a2b7fea",
   "metadata": {
    "id": "9cbd8b0c-1863-4aaf-b422-ed5c2a2b7fea"
   },
   "source": [
    "Printing Variables\n",
    "\n",
    "You can print single or multiple variables using the print() function:\n",
    "\n",
    "Single Variable"
   ]
  },
  {
   "cell_type": "code",
   "execution_count": null,
   "id": "62a05689-dd41-4964-82da-2a7c2e2b9ccd",
   "metadata": {
    "id": "62a05689-dd41-4964-82da-2a7c2e2b9ccd"
   },
   "outputs": [],
   "source": [
    "profit = 1000\n",
    "print(\"Profit:\", profit)"
   ]
  },
  {
   "cell_type": "markdown",
   "id": "e582c85b-e18d-4d42-8aac-2c363cc263d5",
   "metadata": {
    "id": "e582c85b-e18d-4d42-8aac-2c363cc263d5"
   },
   "source": [
    "Multiple Variables"
   ]
  },
  {
   "cell_type": "code",
   "execution_count": null,
   "id": "64738011-219b-4532-9089-641c7be614b4",
   "metadata": {
    "id": "64738011-219b-4532-9089-641c7be614b4"
   },
   "outputs": [],
   "source": [
    "revenue, expenses = 5000, 4000\n",
    "print(\"Revenue:\", revenue, \"Expenses:\", expenses)"
   ]
  },
  {
   "cell_type": "markdown",
   "id": "81155439-6880-4c44-84b8-121d7606eb15",
   "metadata": {
    "id": "81155439-6880-4c44-84b8-121d7606eb15"
   },
   "source": [
    "Real-World Example for Finance Students\n",
    "\n",
    "Here’s a practical example to calculate the monthly installment (EMI) of a loan:"
   ]
  },
  {
   "cell_type": "code",
   "execution_count": null,
   "id": "ab1bbf39-5709-4e93-880c-fa31abcc79bd",
   "metadata": {
    "colab": {
     "base_uri": "https://localhost:8080/"
    },
    "id": "ab1bbf39-5709-4e93-880c-fa31abcc79bd",
    "outputId": "34be9d24-296f-4690-fe40-580648f799d8"
   },
   "outputs": [
    {
     "name": "stdout",
     "output_type": "stream",
     "text": [
      "Monthly EMI: 9666.4\n"
     ]
    }
   ],
   "source": [
    "principal = 500000  # Loan amount in dollars\n",
    "annual_rate = 0.06  # Annual interest rate\n",
    "months = 60  # Loan term in months\n",
    "\n",
    "monthly_rate = annual_rate / 12  # Convert annual rate to monthly\n",
    "emi = (principal * monthly_rate * (1 + monthly_rate) ** months) /\n",
    " ((1 + monthly_rate) ** months - 1)\n",
    "\n",
    "print(\"Monthly EMI:\", round(emi, 2))"
   ]
  },
  {
   "cell_type": "code",
   "execution_count": null,
   "id": "5G--SmPVjnd-",
   "metadata": {
    "id": "5G--SmPVjnd-"
   },
   "outputs": [],
   "source": [
    "# Loan details\n",
    "principal = 500000  # Loan amount in dollars\n",
    "annual_rate = 6 / 100  # Annual interest rate (6% converted to decimal)\n",
    "months = 60  # Loan term in months\n",
    "\n",
    "# Step 1: Calculate the monthly interest rate\n",
    "monthly_rate = annual_rate / 12\n",
    "\n",
    "# Step 2: Use the EMI formula\n",
    "# EMI = [P * r * (1 + r)^n] / [(1 + r)^n - 1]\n",
    "numerator = principal * monthly_rate * (1 + monthly_rate) ** months\n",
    "denominator = (1 + monthly_rate) ** months - 1\n",
    "emi = numerator / denominator\n",
    "\n",
    "# Step 3: Round the EMI to 2 decimal places\n",
    "emi = round(emi, 2)\n",
    "\n",
    "# Step 4: Print the result\n",
    "print(\"Monthly EMI:\", emi)\n"
   ]
  },
  {
   "cell_type": "markdown",
   "id": "1zhbYFsQj2VV",
   "metadata": {
    "id": "1zhbYFsQj2VV"
   },
   "source": [
    "# Explanation of the Code\n",
    "\n",
    "## Input Values:\n",
    "\n",
    "- principal: The loan amount (500,000 USD).\n",
    "- annual_rate: The annual interest rate as a decimal (6% → 0.06).\n",
    "- months: The loan duration in months (60 months).\n",
    "- Step 1: Calculate Monthly Interest Rate:\n",
    "\n",
    "- Divide the annual rate by 12 to get the monthly rate.\n",
    "\n",
    "- Step 2: Use the EMI Formula:\n",
    "\n",
    "- Calculate the numerator:\n",
    "𝑃 × 𝑟 × ( 1 + 𝑟 )^ 𝑛\n",
    "\n",
    "- Calculate the denominator: (1+𝑟)^ 𝑛 - 1\n",
    "\n",
    "- Divide the numerator by the denominator to get the EMI.\n",
    "\n",
    "-Step 3: Round to Two Decimal Places:\n",
    "\n",
    "- Use the round() function to round the EMI to two decimal places for financial accuracy.\n",
    "- Step 4: Print the EMI:\n",
    "\n",
    "- Display the final EMI amount in a user-friendly format.\n",
    "\n",
    "## Output\n",
    "When you run the code, you’ll see:\n",
    "\n",
    "Monthly EMI: 9669.12\n",
    "\n",
    "\n",
    "\n",
    "\n",
    "\n",
    "\n"
   ]
  },
  {
   "cell_type": "code",
   "execution_count": null,
   "id": "LQVf69LWW3EB",
   "metadata": {
    "id": "LQVf69LWW3EB"
   },
   "outputs": [],
   "source": [
    "Sales=5000\n",
    "Target=7000\n",
    "if(Sales<Target):\n",
    "  loss=Target-Sales\n",
    "  print(\"Loss Incurred :\",loss)\n",
    "else:\n",
    "  profit=Sales-Target\n",
    "  print(\"Profit Incurred :\",profit)"
   ]
  },
  {
   "cell_type": "markdown",
   "id": "984b3c5c-3bff-4a57-b010-4f565c0ef6da",
   "metadata": {
    "id": "984b3c5c-3bff-4a57-b010-4f565c0ef6da"
   },
   "source": [
    "This example demonstrates:\n",
    "\n",
    "Assigning values to variables.\n",
    "\n",
    "Performing calculations.\n",
    "\n",
    "Printing the result.\n",
    "\n"
   ]
  },
  {
   "cell_type": "markdown",
   "id": "fa4cb61d-7b12-4600-bcda-fe097f8700dd",
   "metadata": {
    "id": "fa4cb61d-7b12-4600-bcda-fe097f8700dd"
   },
   "source": [
    "Conclusion\n",
    "\n",
    "Understanding Python variables and identifiers is crucial for effective programming. By following best practices for naming and managing variables, you can write clear and professional code that is easy to understand and maintain. This skill will not only enhance your analytical capabilities but also make your programming more efficient.."
   ]
  }
 ],
 "metadata": {
  "colab": {
   "provenance": []
  },
  "kernelspec": {
   "display_name": "Python [conda env:base] *",
   "language": "python",
   "name": "conda-base-py"
  },
  "language_info": {
   "codemirror_mode": {
    "name": "ipython",
    "version": 3
   },
   "file_extension": ".py",
   "mimetype": "text/x-python",
   "name": "python",
   "nbconvert_exporter": "python",
   "pygments_lexer": "ipython3",
   "version": "3.12.4"
  }
 },
 "nbformat": 4,
 "nbformat_minor": 5
}
