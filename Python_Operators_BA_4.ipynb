{
  "nbformat": 4,
  "nbformat_minor": 0,
  "metadata": {
    "colab": {
      "provenance": []
    },
    "kernelspec": {
      "name": "python3",
      "display_name": "Python 3"
    },
    "language_info": {
      "name": "python"
    }
  },
  "cells": [
    {
      "cell_type": "markdown",
      "source": [
        "# Python Operators\n",
        "We will discuss various Python operators through the lens of finance, using practical examples to illustrate their application. Operators are essential for building logic in any programming language. In finance, operators help analyze data, perform calculations, and make decisions programmatically."
      ],
      "metadata": {
        "id": "NkCvwxU-rdeX"
      }
    },
    {
      "cell_type": "markdown",
      "source": [
        "# An Introduction to Operators in Python\n",
        "Operators are symbols used to perform specific operations on operands (values and variables). In finance, these operations include mathematical calculations, comparisons, logical checks, and more. Python provides several operators, each serving unique purposes.\n",
        "\n",
        "# Types of Python Operators:\n",
        "\n",
        "1. Arithmetic Operators\n",
        "2. Comparison Operators\n",
        "3. Assignment Operators\n",
        "4. Logical Operators\n",
        "5. Bitwise Operators\n",
        "6. Membership Operators\n",
        "7. Identity Operators"
      ],
      "metadata": {
        "id": "fLC0B4O2rmd8"
      }
    },
    {
      "cell_type": "markdown",
      "source": [
        "# Arithmetic Operators\n",
        "Arithmetic operators perform basic mathematical operations essential in finance, such as calculating profits, interest, or totals.\n",
        "\n",
        "<table><tr><th>S. No.\t<th>Operator\t<th>Syntax\t<th>Description</tr>\n",
        "<tr><td>1\t<td>+\t<td>profit = revenue + cost\t<td>Adds two operands. E.g., Calculate total revenue.</tr>\n",
        "<tr><td>2\t<td>-\t<td>loss = revenue - expense\t<td>Subtracts the second operand from the first.</tr>\n",
        "<tr><td>3\t<td>*\t<td>interest = principal * rate\t<td>Multiplies two operands.</tr>\n",
        "<tr><td>4\t<td>/\t<td>ROI = profit / investment\t<td>Divides the first operand by the second.</tr>\n",
        "<tr><td>5\t<td>%\t<td>remainder = total % divisor\t<td>Finds the remainder. Useful for periodic calculations.</tr>\n",
        "<tr><td>6\t<td>**\t<td>compound = principal ** time\t<td>Calculates power (e.g., compounding interest).</tr>\n",
        "<tr><td>7\t<td>//\t<td>floor_div = amount // divisor\t<td>Returns floor division result.</tr></table>\n",
        "## Example: Calculating Profit Margin"
      ],
      "metadata": {
        "id": "RJChq55-sD9f"
      }
    },
    {
      "cell_type": "code",
      "source": [
        "revenue = 150000  # Total revenue\n",
        "cost = 100000     # Total cost\n",
        "\n",
        "# Calculating profit\n",
        "profit = revenue - cost\n",
        "print(\"Profit:\", profit)\n",
        "\n",
        "# Calculating profit margin\n",
        "profit_margin = (profit / revenue) * 100\n",
        "print(\"Profit Margin:\", profit_margin, \"%\")\n"
      ],
      "metadata": {
        "id": "ex_C0Y-AtGIV"
      },
      "execution_count": null,
      "outputs": []
    },
    {
      "cell_type": "markdown",
      "source": [
        "# Comparison Operators\n",
        "Comparison operators evaluate relationships between values, returning True or False. They are crucial for financial decision-making.\n",
        "\n",
        "<table><tr><th>S. No.\t<th>Operator\t<th>Syntax\t<th>Description</tr>\n",
        "<tr><td>1<td>\t==<td>\ta == b\t<td>Checks if two values are equal.</tr>\n",
        "<tr><td>2\t<td>!=<td>\ta != b<td>\tChecks if two values are not equal.</tr>\n",
        "<tr><td>3\t<td>>\t<td>a > b\t<td>Checks if the first value is greater.</tr>\n",
        "<tr><td>4\t<td><\t<td>a < b\t<td>Checks if the first value is less.</tr>\n",
        "<tr><td>5\t<td>>=<td>\ta >= b<td>\tChecks if the first value is greater or equal.</tr>\n",
        "<tr><td>6\t<td><=<td>\ta <= b\t<td>Checks if the first value is less or equal.</tr></table>\n",
        "\n",
        "## Example: Loan Approval"
      ],
      "metadata": {
        "id": "eKVi9SBOtG33"
      }
    },
    {
      "cell_type": "code",
      "source": [
        "credit_score = 750\n",
        "required_score = 700\n",
        "\n",
        "# Check if the credit score qualifies for a loan\n",
        "if credit_score >= required_score:\n",
        "    print(\"Loan Approved\")\n",
        "else:\n",
        "    print(\"Loan Denied\")"
      ],
      "metadata": {
        "id": "A8GGZevrt8Ik"
      },
      "execution_count": null,
      "outputs": []
    },
    {
      "cell_type": "markdown",
      "source": [
        "# Assignment Operators\n",
        "Assignment operators assign values to variables. In finance, they help update values iteratively, such as in amortization schedules.\n",
        "\n",
        "<table><tr><th>S. No.\t<th>Operator\t<th>Syntax\t<th>Description</tr>\n",
        "<tr><td>1\t<td>=\t<td>a = b + c\t<td>Assigns the value of the right expression to the left operand.</tr>\n",
        "<tr><td>2\t<td>+=\t<td>a += b\t<td>Adds right operand to left operand and assigns the result.</tr>\n",
        "<tr><td>3\t<td>-=\t<td>a -= b\t<td>Subtracts right operand from left operand.</tr>\n",
        "<tr><td>4\t<td>*=\t<td>a *= b\t<td>Multiplies left operand by right operand.</tr>\n",
        "<tr><td>5\t<td>/=\t<td>a /= b\t<td>Divides left operand by right operand.</tr>\n",
        "<tr><td>6\t<td>%=\t<td>a %= b\t<td>Calculates modulus.</tr>\n",
        "<tr><td>7\t<td>**=\t<td>a **= b\t<td>Calculates power.</tr>\n",
        "<tr><td>8\t<td>//=\t<td>a //= b\t<td>Calculates floor division.</tr></table>\n",
        "\n",
        "## Example: Updating Portfolio Value\n"
      ],
      "metadata": {
        "id": "wHl2BBG5t2vG"
      }
    },
    {
      "cell_type": "code",
      "source": [
        "portfolio_value = 100000  # Initial portfolio value\n",
        "monthly_growth = 0.05     # 5% monthly growth\n",
        "\n",
        "# Updating portfolio over 3 months\n",
        "for month in range(3):\n",
        "    portfolio_value += portfolio_value * monthly_growth\n",
        "    print(f\"Month {month + 1}: ${portfolio_value:.2f}\")\n"
      ],
      "metadata": {
        "id": "ZtKCmYSTvki_"
      },
      "execution_count": null,
      "outputs": []
    },
    {
      "cell_type": "markdown",
      "source": [
        "# Logical Operators\n",
        "Logical operators are used to combine conditions in financial decision-making.\n",
        "\n",
        "<table><tr><th>S. No.\t<th>Operator\t<th>Syntax\t<th>Description</tr>\n",
        "<tr><td>1\t<td>and\t<td>a > b and c > d\t<td>Both conditions must be true.</tr>\n",
        "<tr><td>2\t<td>or\t<td>a > b or c > d\t<td>At least one condition must be true.</tr>\n",
        "<tr><td>3\t<td>not\t<td>not a > b\t<td>Negates the condition.</tr></table>\n",
        "## Example: Investment Strategy"
      ],
      "metadata": {
        "id": "yFXEIfobvna-"
      }
    },
    {
      "cell_type": "code",
      "source": [
        "investment_a = 50000\n",
        "investment_b = 30000\n",
        "\n",
        "# Check if either investment meets the threshold\n",
        "if investment_a > 40000 or investment_b > 40000:\n",
        "    print(\"Consider investing further\")\n",
        "else:\n",
        "    print(\"Reassess investment strategy\")"
      ],
      "metadata": {
        "id": "IMO3JLxtwZ27"
      },
      "execution_count": null,
      "outputs": []
    },
    {
      "cell_type": "markdown",
      "source": [
        "# Membership Operators\n",
        "Membership operators check for the presence of a value in data structures, often useful in transaction or portfolio management.\n",
        "\n",
        "<table><tr><th>S. No.\t<th>Operator\t<th>Syntax\t<th>Description</tr>\n",
        "<tr><td>1\t<td>in\t<td>x in list\t<td>Returns True if x is in the list.</tr>\n",
        "<tr><td>2\t<td>not in\t<td>x not in list\t<td>Returns True if x is not in the list.</tr>\n",
        "</tr></table>\n",
        "## Example: Stock Portfolio\n"
      ],
      "metadata": {
        "id": "RncK1DNKt5Nl"
      }
    },
    {
      "cell_type": "code",
      "source": [
        "portfolio = [\"AAPL\", \"MSFT\", \"GOOGL\"]\n",
        "\n",
        "# Check if a stock is in the portfolio\n",
        "stock = \"TSLA\"\n",
        "if stock in portfolio:\n",
        "    print(f\"{stock} is in the portfolio.\")\n",
        "else:\n",
        "    print(f\"{stock} is NOT in the portfolio.\")\n"
      ],
      "metadata": {
        "id": "09wV8f-u1aZW"
      },
      "execution_count": null,
      "outputs": []
    },
    {
      "cell_type": "markdown",
      "source": [
        "# Identity Operators\n",
        "Identity operators check whether two variables reference the same object in memory.\n",
        "\n",
        "<table><tr><th>S. No.\t<th>Operator\t<th>Syntax\t<th>Description</tr>\n",
        "<tr><td>1\t<td>is\t<td>a is b\t<td>Returns True if both reference the same object.</tr>\n",
        "<tr><td>2\t<td>is not\t<td>a is not b\t<td>Returns True if they reference different objects.</tr>\n",
        "\n",
        "## Example: Shared Data *Reference*"
      ],
      "metadata": {
        "id": "zSE5w7eq1bH2"
      }
    },
    {
      "cell_type": "code",
      "source": [
        "account1 = [\"Checking\", \"Savings\"]\n",
        "account2 = [\"Checking\", \"Savings\"]\n",
        "account3 = account1\n",
        "\n",
        "print(account1 is account3)  # True\n",
        "print(account1 is account2)  # False\n"
      ],
      "metadata": {
        "id": "Xn4gXpBm1e6Y"
      },
      "execution_count": null,
      "outputs": []
    },
    {
      "cell_type": "markdown",
      "source": [
        "# Operator Precedence\n",
        "Understanding operator precedence ensures correct order of operations, especially in complex calculations.\n",
        "\n",
        "<table><tr><th>S. No.\t<th>Operator\t<th>Description</tr>\n",
        "<tr><td>1\t<td>**\t<td>Exponentiation</tr>\n",
        "<tr><td>2\t<td>*, /, //, %\t<td>Multiplication, Division, Floor Division, Modulus</tr>\n",
        "<tr><td>3\t<td>+, -\t<td>Addition, Subtraction</tr>\n",
        "<tr><td>4\t<td>Comparison Operators\t<td>==, !=, <, >, <=, >=</tr>\n",
        "<tr><td>5\t<td>Logical Operators\t<td>not, and, or</tr>\n"
      ],
      "metadata": {
        "id": "g1s4dxrc1hCR"
      }
    },
    {
      "cell_type": "markdown",
      "source": [
        "#Conclusion:\n",
        "Python operators are integral to financial analysis and programming. From performing calculations to making logical decisions, operators streamline various tasks in finance."
      ],
      "metadata": {
        "id": "wjKEW80a1jnb"
      }
    }
  ]
}