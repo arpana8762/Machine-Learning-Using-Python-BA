{
  "nbformat": 4,
  "nbformat_minor": 0,
  "metadata": {
    "colab": {
      "provenance": []
    },
    "kernelspec": {
      "name": "python3",
      "display_name": "Python 3"
    },
    "language_info": {
      "name": "python"
    }
  },
  "cells": [
    {
      "cell_type": "markdown",
      "source": [
        "# Python Variables and Identifiers\n",
        "\n",
        "## Introduction to Variables\n",
        "\n",
        "A variable in Python is essentially a name given to a memory location where data is stored. Think of it as a container that holds information which can be used and modified throughout a program.\n",
        "\n",
        "**For example:**"
      ],
      "metadata": {
        "id": "vHHz3UaFOjH5"
      }
    },
    {
      "cell_type": "code",
      "source": [
        "interest_rate = 0.05  # Annual interest rate\n",
        "principal = 10000     # Loan amount in dollars"
      ],
      "metadata": {
        "id": "FR3AHf3XO23-"
      },
      "execution_count": null,
      "outputs": []
    },
    {
      "cell_type": "markdown",
      "source": [
        "Python does not require you to declare the type of a variable explicitly. This feature makes Python an \"infer\" language—it automatically determines the type of the value assigned to the variable.\n",
        "\n",
        "## Naming Rules for Variables\n",
        "\n",
        "When naming variables in Python, you need to follow certain rules to ensure that your code is understandable and functional:\n",
        "\n",
        "1. **Start with a letter or an underscore (_):**\n",
        "\n",
        "**Valid:** rate_of_return, _profit_margin\n",
        "\n",
        "**Invalid:** 1interest_rate\n",
        "\n",
        "2. **Use letters, numbers, and underscores:**\n",
        "\n",
        "**Valid:** net_income2023, loan_amount\n",
        "\n",
        "**Invalid:** net-income!, loan@amount\n",
        "\n",
        "3. **Avoid using Python keywords:**\n",
        "\n",
        "Python keywords (e.g., if, while, return) cannot be used as variable names.\n",
        "\n",
        "4. **Be case-sensitive:**\n",
        "\n",
        "interest_rate and Interest_Rate are two different variables.\n",
        "\n"
      ],
      "metadata": {
        "id": "ybSGpbBgO8Ew"
      }
    },
    {
      "cell_type": "markdown",
      "source": [
        "# Assigning Values to Variables\n",
        "\n",
        "Python allows you to assign values to variables using the = operator.\n",
        "\n",
        "**Example:**"
      ],
      "metadata": {
        "id": "8VnCU_ocQnnS"
      }
    },
    {
      "cell_type": "code",
      "source": [
        "roi = 0.10  # Return on investment\n",
        "investment = 5000  # Initial investment"
      ],
      "metadata": {
        "id": "GrDiWkK3QvZE"
      },
      "execution_count": null,
      "outputs": []
    },
    {
      "cell_type": "markdown",
      "source": [
        "# Multiple Assignments\n",
        "\n",
        "You can assign values to multiple variables in one line:"
      ],
      "metadata": {
        "id": "0bYUexXpQ04a"
      }
    },
    {
      "cell_type": "code",
      "source": [
        "profit, loss, breakeven = 2000, 500, 1500"
      ],
      "metadata": {
        "id": "QP1jHAFiQ4Re"
      },
      "execution_count": null,
      "outputs": []
    },
    {
      "cell_type": "markdown",
      "source": [
        "Or assign the same value to multiple variables:"
      ],
      "metadata": {
        "id": "dH1OorLMQ7CI"
      }
    },
    {
      "cell_type": "code",
      "source": [
        "x = y = z = 0  # Initialize multiple variables"
      ],
      "metadata": {
        "id": "eSvt6-HsQ9Z-"
      },
      "execution_count": null,
      "outputs": []
    },
    {
      "cell_type": "markdown",
      "source": [
        "# Identifiers in Python\n",
        "\n",
        "An identifier is the name used to identify variables, functions, classes, or other objects in Python. Essentially, it is the user-defined name used to recognize an element in a Python program.\n",
        "\n",
        "# Rules for Identifiers:\n",
        "\n",
        "- Must begin with a letter (A-Z or a-z) or an underscore (_).\n",
        "\n",
        "- Can consist of letters, digits (0-9), and underscores but cannot start with a digit.\n",
        "\n",
        "- Cannot use special characters (e.g., @, #, $, %, etc.).\n",
        "\n",
        "- Cannot be a Python keyword (e.g., if, else, while).\n",
        "\n",
        "- **Case-sensitive:** data and Data are considered different identifiers.\n",
        "\n",
        "# Examples of Valid Identifiers:\n",
        "\n",
        "student_name\n",
        "\n",
        "total_income\n",
        "\n",
        "_interest_rate\n",
        "\n",
        "profit2023\n",
        "\n",
        "# Examples of Invalid Identifiers:\n",
        "\n",
        "123variable (starts with a digit)\n",
        "\n",
        "net-income! (contains special character !)\n",
        "\n",
        "class (reserved Python keyword)"
      ],
      "metadata": {
        "id": "zK94nuRcUv-2"
      }
    },
    {
      "cell_type": "code",
      "source": [
        "# Valid Identifiers\n",
        "principal = 5000\n",
        "interest_rate = 0.05\n",
        "loan_term = 12\n",
        "\n",
        "# Invalid Identifier Example\n",
        " 123amount = 10000  # SyntaxError\n",
        " net-income = 2000  # SyntaxError\n",
        "\n",
        "print(\"Principal:\", principal)\n",
        "print(\"Interest Rate:\", interest_rate)"
      ],
      "metadata": {
        "id": "gwzfNZFXVGU-"
      },
      "execution_count": null,
      "outputs": []
    },
    {
      "cell_type": "markdown",
      "source": [
        "\n",
        "# Best Practices for Variable Names\n",
        "\n",
        "To make your code clear and professional:\n",
        "\n",
        "- Use lowercase letters.\n",
        "\n",
        "- Use descriptive names to reflect the purpose of the variable, e.g., investment_period is better than ip.\n",
        "\n",
        "- Avoid using names that are too short or cryptic.\n",
        "\n",
        "**For example, instead of this:**"
      ],
      "metadata": {
        "id": "13ep2x0KVPQz"
      }
    },
    {
      "cell_type": "code",
      "source": [
        "a = 10000\n",
        "b = 0.05\n",
        "c = 12"
      ],
      "metadata": {
        "id": "36Lts8flVbVy"
      },
      "execution_count": null,
      "outputs": []
    },
    {
      "cell_type": "markdown",
      "source": [
        "Use this:"
      ],
      "metadata": {
        "id": "eksAZpX0VgJQ"
      }
    },
    {
      "cell_type": "code",
      "source": [
        "principal_amount = 10000\n",
        "annual_rate = 0.05\n",
        "months = 12"
      ],
      "metadata": {
        "id": "rJkeqSznVhz2"
      },
      "execution_count": null,
      "outputs": []
    },
    {
      "cell_type": "markdown",
      "source": [
        "# Types of Variables\n",
        "\n",
        "1. **Local Variables:**\n",
        "\n",
        "- Declared inside a function.\n",
        "\n",
        "- Accessible only within that function.\n",
        "\n",
        "**Example:**"
      ],
      "metadata": {
        "id": "nIStGV75REC_"
      }
    },
    {
      "cell_type": "code",
      "source": [
        "def calculate_interest():\n",
        "    principal = 10000\n",
        "    rate = 0.05\n",
        "    interest = principal * rate\n",
        "    print(\"Interest:\", interest)\n",
        "\n",
        "calculate_interest()\n",
        "# print(principal)  # Error: principal is not defined outside the function"
      ],
      "metadata": {
        "id": "aGZ9lY-hRCjx"
      },
      "execution_count": null,
      "outputs": []
    },
    {
      "cell_type": "markdown",
      "source": [
        "\n",
        "2. **Global Variables:**\n",
        "\n",
        "- Declared outside of any function and accessible throughout the program.\n",
        "\n",
        "**Example:**"
      ],
      "metadata": {
        "id": "o1QoFuXURBDV"
      }
    },
    {
      "cell_type": "code",
      "source": [
        "inflation_rate = 0.03\n",
        "\n",
        "def calculate_real_rate():\n",
        "    global inflation_rate\n",
        "    nominal_rate = 0.07\n",
        "    real_rate = nominal_rate - inflation_rate\n",
        "    print(\"Real Interest Rate:\", real_rate)\n",
        "\n",
        "calculate_real_rate()"
      ],
      "metadata": {
        "id": "2OVqTQtDRioj"
      },
      "execution_count": null,
      "outputs": []
    },
    {
      "cell_type": "markdown",
      "source": [
        "# Object References in Python\n",
        "\n",
        "In Python, variables act as references to objects in memory. **For example:**"
      ],
      "metadata": {
        "id": "u79KNAvMRmfJ"
      }
    },
    {
      "cell_type": "code",
      "source": [
        "stock_price = 150"
      ],
      "metadata": {
        "id": "qj2BLt7ORt9D"
      },
      "execution_count": null,
      "outputs": []
    },
    {
      "cell_type": "markdown",
      "source": [
        "Here, stock_price points to an integer object holding the value 150. If you assign another variable to it:"
      ],
      "metadata": {
        "id": "86RRzAAXRwTR"
      }
    },
    {
      "cell_type": "code",
      "source": [
        "stock_value = stock_price"
      ],
      "metadata": {
        "id": "dteb0ysIRywm"
      },
      "execution_count": null,
      "outputs": []
    },
    {
      "cell_type": "markdown",
      "source": [
        "Both variables point to the same object in memory. Modifying one variable’s value doesn’t affect the other.\n",
        "\n"
      ],
      "metadata": {
        "id": "6SqqZW1DR287"
      }
    },
    {
      "cell_type": "markdown",
      "source": [
        "# Using the id() Function\n",
        "\n",
        "Each object in Python has a unique identifier. Use the id() function to view it:"
      ],
      "metadata": {
        "id": "4y1EJq_jR7s_"
      }
    },
    {
      "cell_type": "code",
      "source": [
        "a = 100\n",
        "print(id(a))"
      ],
      "metadata": {
        "id": "-xdR9q1CR-Yh"
      },
      "execution_count": null,
      "outputs": []
    },
    {
      "cell_type": "markdown",
      "source": [
        "This can help you understand how Python handles memory and objects.\n"
      ],
      "metadata": {
        "id": "pk2NrrV0SF7Y"
      }
    },
    {
      "cell_type": "markdown",
      "source": [
        "# Variable Naming Conventions\n",
        "\n",
        "Python supports different styles for naming variables:\n",
        "\n",
        "1. **Snake Case:** Words are separated by underscores: investment_amount\n",
        "\n",
        "2. **Camel Case:** Each word after the first begins with a capital letter: investmentAmount\n",
        "\n",
        "3. **Pascal Case:** Each word begins with a capital letter: InvestmentAmount\n",
        "\n",
        "# Deleting Variables\n",
        "\n",
        "To delete a variable, use the del keyword:"
      ],
      "metadata": {
        "id": "GkdthRJoSJI_"
      }
    },
    {
      "cell_type": "code",
      "source": [
        "fee = 50\n",
        "print(fee)  # Output: 50\n",
        "\n",
        "del fee\n",
        "print(fee)  # Error: name 'fee' is not defined"
      ],
      "metadata": {
        "id": "j8mNj4RBSY6W"
      },
      "execution_count": null,
      "outputs": []
    },
    {
      "cell_type": "markdown",
      "source": [
        "# Printing Variables\n",
        "\n",
        "You can print single or multiple variables using the print() function:\n"
      ],
      "metadata": {
        "id": "SfnM0t6VSc2I"
      }
    },
    {
      "cell_type": "code",
      "source": [
        "# Single Variable\n",
        "\n",
        "profit = 1000\n",
        "print(\"Profit:\", profit)\n",
        "\n",
        "# Multiple Variables\n",
        "\n",
        "revenue, expenses = 5000, 4000\n",
        "print(\"Revenue:\", revenue, \"Expenses:\", expenses)"
      ],
      "metadata": {
        "id": "vfB5so-uSlgq"
      },
      "execution_count": null,
      "outputs": []
    },
    {
      "cell_type": "markdown",
      "source": [
        "# Real-World Example\n",
        "\n",
        "Here’s a practical example to calculate the monthly installment (EMI) of a loan:"
      ],
      "metadata": {
        "id": "_zF5fjoNSpFc"
      }
    },
    {
      "cell_type": "code",
      "source": [
        "principal = 500000  # Loan amount in dollars\n",
        "annual_rate = 0.06  # Annual interest rate\n",
        "months = 60  # Loan term in months\n",
        "\n",
        "monthly_rate = annual_rate / 12  # Convert annual rate to monthly\n",
        "emi = (principal * monthly_rate * (1 + monthly_rate) ** months) / ((1 + monthly_rate) ** months - 1)\n",
        "\n",
        "print(\"Monthly EMI:\", round(emi, 2))"
      ],
      "metadata": {
        "id": "jND7zvqFSuT0"
      },
      "execution_count": null,
      "outputs": []
    },
    {
      "cell_type": "markdown",
      "source": [
        "This **example** demonstrates:\n",
        "\n",
        "- Assigning values to variables.\n",
        "\n",
        "- Performing calculations.\n",
        "\n",
        "- Printing the result."
      ],
      "metadata": {
        "id": "vxNMk8GKSyAz"
      }
    },
    {
      "cell_type": "markdown",
      "source": [
        "# Conclusion\n",
        "\n",
        "Understanding Python variables and identifiers is crucial for effective programming. By following best practices for naming and managing variables, you can write clear and professional code that is easy to understand and maintain. This skill will not only enhance your analytical capabilities but also make your programming more efficient."
      ],
      "metadata": {
        "id": "BHUpmZJgS824"
      }
    },
    {
      "cell_type": "markdown",
      "source": [
        "# Python Keywords and Literals\n",
        "\n",
        "Python, like every other programming language, has a unique set of keywords and literals. These elements are foundational to the language, dictating its syntax and functionality. As an author guiding you through Python, let's dive into the world of keywords and literals, breaking them down to help you master their usage."
      ],
      "metadata": {
        "id": "1oSCwMJ_l6YF"
      }
    },
    {
      "cell_type": "markdown",
      "source": [
        "# Python Keywords\n",
        "Keywords in Python are special reserved words that have predefined meanings. These words are part of the Python language syntax and cannot be used as identifiers (like variable names). They help define the structure and logic of the code.\n",
        "\n",
        "# Characteristics of Python Keywords\n",
        "\n",
        "- They are case-sensitive.\n",
        "- Limited in number but might vary across Python versions.\n",
        "- Reserved exclusively for their specific purposes.\n",
        "- Using them incorrectly results in a SyntaxError.\n",
        "\n",
        "## How to View Python Keywords\n",
        "To see the list of Python keywords in your version:"
      ],
      "metadata": {
        "id": "DZKI0OP4l_xX"
      }
    },
    {
      "cell_type": "code",
      "source": [
        "import keyword\n",
        "print(keyword.kwlist)\n"
      ],
      "metadata": {
        "id": "soPYQ0ksmJx5"
      },
      "execution_count": null,
      "outputs": []
    },
    {
      "cell_type": "markdown",
      "source": [
        "# Types of Python Keywords\n",
        "Python keywords can be categorized based on their usage:\n",
        "\n",
        "## Value Keywords:\n",
        "\n",
        "True, False, None: Represent truthy and falsy values or the absence of value.\n",
        "\n",
        "## Operator Keywords:\n",
        "\n",
        "and, or, not: Logical operators.\n",
        "in, is: Membership and identity operators.\n",
        "\n",
        "## Iteration and Control Flow Keywords:\n",
        "\n",
        "if, else, elif, for, while, break, continue, pass: Define loops and conditional statements.\n",
        "\n",
        "## Function and Class Keywords:\n",
        "\n",
        "def, return, lambda, class, yield: Used for defining functions, classes, and generator functions.\n",
        "\n",
        "## Exception Handling Keywords:\n",
        "\n",
        "try, except, raise, finally, assert: Manage errors and exceptions.\n",
        "\n",
        "## Namespace and Variable Scope Keywords:\n",
        "\n",
        "global, nonlocal: Control the scope of variables.\n",
        "\n",
        "## Miscellaneous Keywords:\n",
        "\n",
        "del, import, as, with, async, await: Perform varied tasks like deleting variables, importing modules, or managing asynchronous operations.\n",
        "\n",
        "## Examples of Python Keywords"
      ],
      "metadata": {
        "id": "oCaiB9gcmMXD"
      }
    },
    {
      "cell_type": "code",
      "execution_count": null,
      "metadata": {
        "id": "dYE9BnVMOWSj"
      },
      "outputs": [],
      "source": [
        "# Using `if`, `elif`, and `else`\n",
        "x = 10\n",
        "if x > 5:\n",
        "    print(\"x is greater than 5\")\n",
        "elif x == 5:\n",
        "    print(\"x is equal to 5\")\n",
        "else:\n",
        "    print(\"x is less than 5\")\n",
        "\n"
      ]
    },
    {
      "cell_type": "markdown",
      "source": [
        "# Python Literals\n",
        "Literals are data items that directly represent fixed values in the code. They can be numbers, characters, or strings. Unlike keywords, literals do not have predefined functionality but represent the constant values we use.\n",
        "\n",
        "# Types of Python Literals\n",
        "\n",
        "## String Literals:\n",
        "\n",
        "- Represent textual data.\n",
        "- Can be enclosed in single (') or double (\") quotes.\n",
        "- Example: 'hello', \"Python\"\n",
        "\n",
        "## Multiline Strings:\n",
        "\n",
        "- Enclosed in triple quotes (''' or \"\"\").\n",
        "- Example:"
      ],
      "metadata": {
        "id": "qh0_kFp8moUE"
      }
    },
    {
      "cell_type": "code",
      "source": [
        "multiline_str = '''Hello,\n",
        "Python World!'''\n"
      ],
      "metadata": {
        "id": "-hKcFByqnAUS"
      },
      "execution_count": null,
      "outputs": []
    },
    {
      "cell_type": "markdown",
      "source": [
        "## Numeric Literals:\n",
        "\n",
        "### Represent numbers and include:\n",
        "- Integers (int): 100, -20\n",
        "- Floating-point (float): 10.5, -0.001\n",
        "- Complex: 4+3j\n",
        "\n",
        "### Example:\n",
        "\n"
      ],
      "metadata": {
        "id": "B31eDSGtnFlR"
      }
    },
    {
      "cell_type": "code",
      "source": [
        "x = 42  # Integer\n",
        "y = 3.14  # Float\n",
        "z = 2 + 5j  # Complex number\n"
      ],
      "metadata": {
        "id": "A7Z3szS4nN9t"
      },
      "execution_count": null,
      "outputs": []
    },
    {
      "cell_type": "markdown",
      "source": [
        "## Boolean Literals:\n",
        "\n",
        "- Represent truth values: True, False.\n",
        "-\n",
        "## Example:"
      ],
      "metadata": {
        "id": "dWboS4avnQSK"
      }
    },
    {
      "cell_type": "code",
      "source": [
        "x = (5 > 3)  # True\n",
        "y = (3 > 5)  # False\n"
      ],
      "metadata": {
        "id": "DXH4xBjEnawG"
      },
      "execution_count": null,
      "outputs": []
    },
    {
      "cell_type": "markdown",
      "source": [
        "## Special Literal:\n",
        "\n",
        "- None: Represents the absence of a value.\n",
        "\n",
        "## Example:"
      ],
      "metadata": {
        "id": "FlfQQnjanfam"
      }
    },
    {
      "cell_type": "code",
      "source": [
        "x = None\n"
      ],
      "metadata": {
        "id": "5fnvoZSvnkGl"
      },
      "execution_count": null,
      "outputs": []
    },
    {
      "cell_type": "markdown",
      "source": [
        "## Literal Collections:\n",
        "\n",
        "### Represent structured data in Python.\n",
        "- List: [1, 2, 3]\n",
        "- Tuple: (1, 2, 3)\n",
        "- Dictionary: {'key': 'value'}\n",
        "- Set: {1, 2, 3}\n",
        "### Example"
      ],
      "metadata": {
        "id": "qut2wTJnnmjs"
      }
    },
    {
      "cell_type": "code",
      "source": [
        "fruits = ['apple', 'banana', 'cherry']  # List\n",
        "point = (3, 4)  # Tuple\n",
        "info = {'name': 'Alice', 'age': 30}  # Dictionary\n",
        "primes = {2, 3, 5, 7}  # Set\n"
      ],
      "metadata": {
        "id": "Dfe5_mbPn7aC"
      },
      "execution_count": null,
      "outputs": []
    },
    {
      "cell_type": "markdown",
      "source": [
        "# Key Differences: Keywords vs. Literals\n",
        "<table><tr><th>Aspect\t<th>Keywords\t<th>Literals</tr>\n",
        "<tr><td>Definition\t<td>Predefined reserved words for specific purposes.\t<td>Constant values representing data.</tr>\n",
        "<tr><td>Example\t<td>if, while, def, import\t<td>10, \"hello\", None</tr>\n",
        "<tr><td>Functionality\t<td>Provide structure and control to the program.\t<td>Represent data used in the program.</tr>\n",
        "<tr><td>Usage\t<td>Cannot be reassigned or modified.\t<td>Can be freely used as variable values.</tr></table>\n"
      ],
      "metadata": {
        "id": "wHaeVPZPoB43"
      }
    },
    {
      "cell_type": "markdown",
      "source": [
        "# Conclusion\n",
        "Understanding keywords and literals is essential to mastering Python. Keywords define the rules of engagement, providing the structure and flow, while literals supply the values that drive computations. Together, they form the building blocks of Python programming. Start experimenting with these elements in your code, and you'll unlock the full potential of Python in no time!"
      ],
      "metadata": {
        "id": "giDRPcdPOdeW"
      }
    },
    {
      "cell_type": "markdown",
      "source": [
        "# Python Comments\n",
        "In this chapter, we will explore the concept of comments in Python programming. We will delve into the different types of comments, including single-line comments, multi-line comments, and documentation strings, and understand their usage."
      ],
      "metadata": {
        "id": "M63fqpTzpQG3"
      }
    },
    {
      "cell_type": "markdown",
      "source": [
        "# Introduction to Python Comments\n",
        "When writing code, it is often helpful to include explanations or notes to describe its functionality. These notes, known as comments, are crucial for documenting the logic, formulas, or business processes within a script. The Python interpreter ignores comments during execution, focusing solely on the program's code. Python supports three types of comments:\n",
        "\n",
        "1. Single-Line Comments\n",
        "2. Multi-Line Comments\n",
        "3. Documentation Strings"
      ],
      "metadata": {
        "id": "FxV-nG_kpYDh"
      }
    },
    {
      "cell_type": "markdown",
      "source": [
        "# Advantages of Using Comments\n",
        "Incorporating comments into a program offers several benefits:\n",
        "\n",
        "1. **Improves Readability:** Comments make code more understandable, helping developers recall the purpose behind specific sections.\n",
        "2. **Facilitates Debugging:** By temporarily ignoring parts of the code, comments allow developers to test and debug programs efficiently.\n",
        "3. **Provides Metadata:** Comments can outline the project's structure or explain complex functions."
      ],
      "metadata": {
        "id": "nXea706wppdv"
      }
    },
    {
      "cell_type": "markdown",
      "source": [
        "# Common Uses of Comments\n",
        "\n",
        "1. Enhancing the readability of the code.\n",
        "2. Restricting the execution of specific lines.\n",
        "3. Providing an overview of the program or metadata.\n",
        "4. Adding resources or references for better understanding."
      ],
      "metadata": {
        "id": "jxmugm2XqEKS"
      }
    },
    {
      "cell_type": "markdown",
      "source": [
        "# Types of Comments in Python\n",
        "Python supports three primary types of comments. Below is a detailed explanation of each type:\n",
        "\n",
        "## 1. Single-Line Comments\n",
        "Single-line comments are used to provide quick descriptions for parameters, functions, or expressions. They begin with a # symbol and extend to the end of the line.\n",
        "\n",
        "**For example:**"
      ],
      "metadata": {
        "id": "2qpdc16sqM9D"
      }
    },
    {
      "cell_type": "code",
      "source": [
        "# This is a single-line comment\n",
        "print('This is not a comment')\n"
      ],
      "metadata": {
        "id": "bFoiOGWtpklR"
      },
      "execution_count": null,
      "outputs": []
    },
    {
      "cell_type": "markdown",
      "source": [
        "The Python interpreter ignores the line starting with #, ensuring that it does not affect the program's execution.\n",
        "\n",
        "Alternatively, single-line comments can be included at the end of a statement:"
      ],
      "metadata": {
        "id": "hYacNveiqUoS"
      }
    },
    {
      "cell_type": "code",
      "source": [
        "print('This is not a comment')  # This is a single-line comment\n"
      ],
      "metadata": {
        "id": "RJI-D-YdqX4I"
      },
      "execution_count": null,
      "outputs": []
    },
    {
      "cell_type": "markdown",
      "source": [
        "# 2. Multi-Line Comments\n",
        "While Python does not have a dedicated syntax for multi-line comments, developers can achieve this in two ways:\n",
        "\n",
        "## Using Multiple Hashtags (#)\n",
        "Each line of the comment is preceded by a # symbol:"
      ],
      "metadata": {
        "id": "quVyKhLGqaXV"
      }
    },
    {
      "cell_type": "code",
      "source": [
        "# This is\n",
        "# a multi-line\n",
        "# comment\n"
      ],
      "metadata": {
        "id": "aBM6F7kfqiUe"
      },
      "execution_count": null,
      "outputs": []
    },
    {
      "cell_type": "markdown",
      "source": [
        "# Using String Literals\n",
        "Triple-quoted strings (''' or \"\"\") can also act as multi-line comments, as Python ignores strings that are not assigned to a variable:"
      ],
      "metadata": {
        "id": "_VNnh_NtqjDW"
      }
    },
    {
      "cell_type": "code",
      "source": [
        "'''This is\n",
        "a multi-line\n",
        "comment'''\n"
      ],
      "metadata": {
        "id": "zt7qY_pFqpiI"
      },
      "execution_count": null,
      "outputs": []
    },
    {
      "cell_type": "markdown",
      "source": [
        "# 3. Python Documentation Strings (Docstrings)\n",
        "Docstrings are strings enclosed in triple quotes (''' or \"\"\") placed immediately after the declaration of functions, classes, or modules. They serve as in-code documentation, providing explanations for functionality. Docstrings can be accessed using the __doc__ attribute.\n",
        "\n",
        "**For example:**"
      ],
      "metadata": {
        "id": "ffzipr9iqsgL"
      }
    },
    {
      "cell_type": "code",
      "source": [
        "# Function demonstrating the use of docstrings\n",
        "def add(x, y):\n",
        "    \"\"\"This function adds two numbers, x and y.\"\"\"\n",
        "    return x + y\n",
        "\n",
        "# Accessing the docstring\n",
        "print(add.__doc__)\n"
      ],
      "metadata": {
        "id": "vB7fmBuqq13u"
      },
      "execution_count": null,
      "outputs": []
    },
    {
      "cell_type": "markdown",
      "source": [
        "# Summary\n",
        "Comments in Python serve as essential tools for documenting and explaining code. From single-line comments for quick notes to multi-line comments for elaborate explanations, and docstrings for structured documentation, they make programming more efficient and collaborative. Use comments wisely to enhance code readability, maintainability, and debugging processes."
      ],
      "metadata": {
        "id": "1DyjIPPvq4-U"
      }
    }
  ]
}