{
  "nbformat": 4,
  "nbformat_minor": 0,
  "metadata": {
    "colab": {
      "provenance": []
    },
    "kernelspec": {
      "name": "python3",
      "display_name": "Python 3"
    },
    "language_info": {
      "name": "python"
    }
  },
  "cells": [
    {
      "cell_type": "code",
      "execution_count": null,
      "metadata": {
        "id": "nrd6B8DHwCdw"
      },
      "outputs": [],
      "source": []
    },
    {
      "cell_type": "markdown",
      "source": [
        "# Data Structures in Python\n",
        "Data structures are fundamental components in computer science and programming. They enable efficient organization, storage, and manipulation of data, making it easier to solve complex computational problems. At their core, data structures allow developers to store data logically and retrieve it effectively.\n",
        "\n",
        "Python, as a versatile and high-level programming language, provides a rich set of built-in and user-defined data structures that cater to diverse application needs. Understanding these data structures is critical for optimizing code, solving algorithmic challenges, and building scalable systems.\n",
        "\n",
        "# Definition and Importance of Data Structures\n",
        "\n",
        "A data structure is a systematic way of organizing and managing data to facilitate efficient access and modification. The choice of a data structure directly impacts the performance of programs by influencing time and space complexity.\n",
        "\n",
        "# Importance:\n",
        "\n",
        "**Efficient Data Handling:** Data structures allow for organized storage, ensuring minimal computational overhead during operations.\n",
        "\n",
        "**Ease of Maintenance:** Organized data simplifies debugging, testing, and scalability of applications.\n",
        "\n",
        "**Algorithm Design:** Many algorithms are tailored to specific data structures, making the understanding of these structures crucial for effective implementation.\n",
        "\n",
        "# Role of Data Structures in Python Programming\n",
        "\n",
        "Python is celebrated for its simplicity and ease of use. Its built-in data structures such as lists, dictionaries, tuples, and sets provide robust functionality for various applications.\n",
        "\n",
        "# Key Roles in Python:\n",
        "\n",
        "1. Facilitate quick prototyping and development.\n",
        "\n",
        "2. Offer high-level abstractions for complex data management.\n",
        "\n",
        "3. Serve as foundational tools in libraries like Pandas, NumPy, and TensorFlow.\n",
        "\n",
        "4. Enable elegant solutions for data-intensive tasks in fields like machine learning, data science, and web development."
      ],
      "metadata": {
        "id": "ZgC7L3UhwGn2"
      }
    },
    {
      "cell_type": "markdown",
      "source": [
        "# Types of Data Structures in Python\n",
        "\n",
        "Python’s data structures can be broadly categorized into two types: Primitive Data Structures and Non-Primitive Data Structures.\n",
        "\n",
        "# Primitive Data Structures\n",
        "\n",
        "Primitive data structures are the building blocks for handling simple values. These include:\n",
        "\n",
        "1. Integers\n",
        "\n",
        "**Description:** Integers are whole numbers, positive or negative, without decimals.\n",
        "\n",
        "**Example:** 5, -23, 100\n",
        "\n",
        "**Features:**\n",
        "\n",
        "1. Supports arithmetic operations.\n",
        "\n",
        "2. No upper limit on size in Python.\n",
        "\n",
        "**Use Cases:** Counting, indexing, mathematical computations.\n",
        "\n",
        "2. Float\n",
        "\n",
        "**Description:** Floats represent numbers with decimal points.\n",
        "\n",
        "**Example:** 3.14, -0.001, 1.0\n",
        "\n",
        "**Features:**\n",
        "\n",
        "1. Precision depends on system architecture.\n",
        "\n",
        "2. Supports arithmetic operations and scientific notation.\n",
        "\n",
        "**Use Cases:** Scientific calculations, financial computations.\n",
        "\n",
        "3. String\n",
        "\n",
        "**Description:** Strings are sequences of characters enclosed in single or double quotes.\n",
        "\n",
        "**Example:** 'Hello', \"Python\"\n",
        "\n",
        "**Features:**\n",
        "\n",
        "1. Immutable (cannot be modified after creation).\n",
        "\n",
        "2. Extensive methods for manipulation: .lower(), .upper(), .split().\n",
        "\n",
        "**Use Cases:** Text processing, data logging, user interface messages.\n",
        "\n",
        "4. Boolean\n",
        "\n",
        "**Description:** Booleans represent truth values: True or False.\n",
        "\n",
        "**Example:** is_valid = True\n",
        "\n",
        "**Features:**\n",
        "\n",
        "1. Results from comparison operations: 5 > 3 evaluates to True.\n",
        "\n",
        "2. Supports logical operations: AND, OR, NOT.\n",
        "\n",
        "**Use Cases:** Decision-making, conditional statements."
      ],
      "metadata": {
        "id": "21gY6gJKwirD"
      }
    },
    {
      "cell_type": "markdown",
      "source": [
        "# Non-Primitive Data Structures\n",
        "\n",
        "Non-primitive data structures are collections that store multiple values and often provide methods for manipulating them. These include lists, tuples, dictionaries, and sets.\n",
        "\n",
        "## 1. Lists\n",
        "\n",
        "**Description:** Lists are ordered collections of elements, which can be of mixed types.\n",
        "\n",
        "**Example:** [1, 'apple', 3.14]\n",
        "\n",
        "**Features:**\n",
        "\n",
        "1. Mutable (modifiable).\n",
        "\n",
        "2. Dynamic sizing.\n",
        "\n",
        "3. Supports indexing and slicing.\n",
        "\n",
        "## Operations and Methods:\n",
        "\n",
        "**Adding elements:** .append(), .insert().\n",
        "\n",
        "**Removing elements:** .remove(), .pop().\n",
        "\n",
        "**Sorting:** .sort(), .reverse().\n",
        "\n",
        "**Use Cases:** Storing sequences of data, iterating over elements, dynamic arrays.\n",
        "\n",
        "## 2. Tuples\n",
        "\n",
        "**Description:** Tuples are ordered and immutable collections of elements.\n",
        "\n",
        "**Example:** (1, 'apple', 3.14)\n",
        "\n",
        "**Features:**\n",
        "\n",
        "1. Immutable (values cannot be changed).\n",
        "\n",
        "2. Supports indexing and slicing.\n",
        "\n",
        "3. Lightweight and faster than lists.\n",
        "\n",
        "## Operations and Methods:\n",
        "\n",
        "**Accessing elements by index:** tuple[index].\n",
        "\n",
        "**Concatenation:** tuple1 + tuple2.\n",
        "\n",
        "**Repetition:** tuple * n.\n",
        "\n",
        "**Membership testing:** element in tuple.\n",
        "\n",
        "**Methods:**\n",
        "\n",
        "**.count(value):** Returns the number of occurrences of a value.\n",
        "\n",
        "**.index(value):** Returns the index of the first occurrence of a value.\n",
        "\n",
        "**Use Cases:** Fixed collections of data, ensuring integrity of grouped elements.\n",
        "\n",
        "## 3. Dictionaries\n",
        "\n",
        "**Description:** Dictionaries are collections of key-value pairs, where keys are unique.\n",
        "\n",
        "**Example:** {'name': 'Alice', 'age': 25}\n",
        "\n",
        "**Features:**\n",
        "\n",
        "1. Mutable.\n",
        "\n",
        "2. Unordered but retains insertion order in Python 3.7+.\n",
        "\n",
        "3. Fast lookup by key.\n",
        "\n",
        "## Operations and Methods:\n",
        "\n",
        "**Adding or updating entries:** dict['key'] = value.\n",
        "\n",
        "**Removing entries:** .pop(), .clear().\n",
        "\n",
        "**Iterating:** .keys(), .values(), .items().\n",
        "\n",
        "**Use Cases:** Associating labels with data, implementing hash maps.\n",
        "\n",
        "## 4. Sets\n",
        "\n",
        "**Description:** Sets are unordered collections of unique elements.\n",
        "\n",
        "**Example:** {1, 2, 3}\n",
        "\n",
        "**Features:**\n",
        "\n",
        "1. Unordered and mutable.\n",
        "\n",
        "2. Duplicate values are automatically removed.\n",
        "\n",
        "3. Supports mathematical set operations: union, intersection, difference.\n",
        "\n",
        "## Operations and Use Cases:\n",
        "\n",
        "**Adding elements:** .add().\n",
        "\n",
        "**Removing elements:** .remove(), .discard().\n",
        "\n",
        "**Use Cases:** Removing duplicates, mathematical computations, membership testing."
      ],
      "metadata": {
        "id": "_SdBysPpxdZL"
      }
    },
    {
      "cell_type": "markdown",
      "source": [
        "# Non-Primitive Data Structure in Detail\n",
        "\n",
        "#1.Python Lists:\n",
        "In Python, lists are used to store sequences of data, including numbers, text, or a combination of both. Lists are flexible and easy to manipulate, making them useful for solving various problems in finance, such as managing portfolios, tracking transactions, or analyzing datasets.\n",
        "\n",
        "# What Are Python Lists?\n",
        "A list in Python is a collection of items enclosed within square brackets ([]) and separated by commas. These items can be of any data type, including numbers, strings, or even other lists. Python lists are mutable, meaning you can modify their content after they are created.\n",
        "\n",
        "## Example :"
      ],
      "metadata": {
        "id": "_qDgssjq1VYW"
      }
    },
    {
      "cell_type": "code",
      "source": [
        "# Example list\n",
        "transactions = [500, -200, 150, \"Dividend\", 75.5]\n",
        "investors = [\"Alice\", \"Bob\", \"Charlie\", \"Diana\"]\n",
        "\n",
        "# Displaying the lists\n",
        "print(transactions)\n",
        "print(investors)\n"
      ],
      "metadata": {
        "id": "mt4pb8Vz1k3H"
      },
      "execution_count": null,
      "outputs": []
    },
    {
      "cell_type": "markdown",
      "source": [
        "# Key Features of Lists\n",
        "1. **Ordered Collection**: Items in a list maintain their order.\n",
        "2. **Indexed Access:** You can access elements by their index (position in the list).\n",
        "3 **Mutable:** Elements can be updated, added, or removed.\n",
        "4. **Supports Multiple Data Type**s: Lists can store diverse data types.\n",
        "# Use Cases in Finance\n",
        "- **Portfolio Management:** Storing stock prices or transaction history.\n",
        "- **Investor Details:** Maintaining lists of investor names or IDs.\n",
        "- **Cash Flow Analysis:** Organizing income and expenses.\n",
        "\n",
        "## Example: Managing Transactions"
      ],
      "metadata": {
        "id": "OHx2OK4f1lyH"
      }
    },
    {
      "cell_type": "code",
      "source": [
        "# Example of transactions\n",
        "transactions = [1000, -500, 200, -150, 300]\n",
        "print(\"Initial transactions:\", transactions)\n",
        "\n",
        "# Updating a transaction\n",
        "transactions[1] = -450\n",
        "print(\"Updated transactions:\", transactions)\n",
        "\n",
        "# Adding a new transaction\n",
        "transactions.append(700)\n",
        "print(\"Transactions after addition:\", transactions)\n",
        "\n",
        "# Removing a transaction\n",
        "transactions.remove(200)\n",
        "print(\"Transactions after removal:\", transactions)\n"
      ],
      "metadata": {
        "id": "YMrHXI4D2Ozc"
      },
      "execution_count": null,
      "outputs": []
    },
    {
      "cell_type": "markdown",
      "source": [
        "# Advanced Operations\n",
        "Python lists support several operations useful in financial calculations:\n",
        "\n",
        "## Repetition:"
      ],
      "metadata": {
        "id": "fCw1AZi12SzJ"
      }
    },
    {
      "cell_type": "code",
      "source": [
        "# Repeating elements\n",
        "quarterly_revenues = [50000] * 4\n",
        "print(\"Quarterly revenues:\", quarterly_revenues)\n"
      ],
      "metadata": {
        "id": "E8KcT5n92WxM"
      },
      "execution_count": null,
      "outputs": []
    },
    {
      "cell_type": "markdown",
      "source": [
        "## Concatenation:"
      ],
      "metadata": {
        "id": "GTfaJf8K2ZYp"
      }
    },
    {
      "cell_type": "code",
      "source": [
        "# Combining data\n",
        "year1_revenue = [10000, 12000, 15000]\n",
        "year2_revenue = [20000, 25000, 30000]\n",
        "total_revenue = year1_revenue + year2_revenue\n",
        "print(\"Total revenue:\", total_revenue)\n"
      ],
      "metadata": {
        "id": "b1IudP0C2bPz"
      },
      "execution_count": null,
      "outputs": []
    },
    {
      "cell_type": "markdown",
      "source": [
        "## Length:"
      ],
      "metadata": {
        "id": "borhL4Jp2dmU"
      }
    },
    {
      "cell_type": "code",
      "source": [
        "# Counting items\n",
        "transactions = [500, -200, 150, -50]\n",
        "print(\"Number of transactions:\", len(transactions))\n"
      ],
      "metadata": {
        "id": "T-2uy5ry2hDF"
      },
      "execution_count": null,
      "outputs": []
    },
    {
      "cell_type": "markdown",
      "source": [
        "## Membership:"
      ],
      "metadata": {
        "id": "pibX9m_E2i6R"
      }
    },
    {
      "cell_type": "code",
      "source": [
        "# Checking for a specific value\n",
        "expenses = [200, 300, 450, 500]\n",
        "print(300 in expenses)  # True\n",
        "print(100 in expenses)  # False\n"
      ],
      "metadata": {
        "id": "ZCGYTXyN2n2p"
      },
      "execution_count": null,
      "outputs": []
    },
    {
      "cell_type": "markdown",
      "source": [
        "# Practical Example: Detecting Common Investors\n",
        "Suppose you want to find common investors between two groups."
      ],
      "metadata": {
        "id": "OEh87JZ_2rMH"
      }
    },
    {
      "cell_type": "code",
      "source": [
        "group1 = [\"Alice\", \"Bob\", \"Charlie\"]\n",
        "group2 = [\"Charlie\", \"Diana\", \"Edward\"]\n",
        "\n",
        "# Finding common names\n",
        "common_investors = [name for name in group1 if name in group2]\n",
        "print(\"Common investors:\", common_investors)\n"
      ],
      "metadata": {
        "id": "IjWAoJeA2txQ"
      },
      "execution_count": null,
      "outputs": []
    },
    {
      "cell_type": "markdown",
      "source": [
        "## Built-In Functions for Lists\n",
        "\n",
        "1. Finding Maximum and Minimum Values:"
      ],
      "metadata": {
        "id": "W6xu7dpx2weD"
      }
    },
    {
      "cell_type": "code",
      "source": [
        "profits = [500, 1200, 750, 300]\n",
        "print(\"Highest profit:\", max(profits))\n",
        "print(\"Lowest profit:\", min(profits))\n"
      ],
      "metadata": {
        "id": "yMNOGBH720dZ"
      },
      "execution_count": null,
      "outputs": []
    },
    {
      "cell_type": "markdown",
      "source": [
        "2. Summing Elements:"
      ],
      "metadata": {
        "id": "bDaziZgQ21Il"
      }
    },
    {
      "cell_type": "code",
      "source": [
        "# Calculating total profit\n",
        "profits = [500, 1200, 750, 300]\n",
        "total_profit = sum(profits)\n",
        "print(\"Total profit:\", total_profit)\n"
      ],
      "metadata": {
        "id": "NaBDT44w24c3"
      },
      "execution_count": null,
      "outputs": []
    },
    {
      "cell_type": "markdown",
      "source": [
        "## Real-Life Scenario: Eliminating Duplicate Transactions"
      ],
      "metadata": {
        "id": "rWcDMpxo26f6"
      }
    },
    {
      "cell_type": "code",
      "source": [
        "transactions = [500, -200, 150, -200, 300, 500]\n",
        "unique_transactions = list(set(transactions))\n",
        "print(\"Unique transactions:\", unique_transactions)\n"
      ],
      "metadata": {
        "id": "0AnvN6Js3AQc"
      },
      "execution_count": null,
      "outputs": []
    },
    {
      "cell_type": "markdown",
      "source": [
        "Python lists are powerful tools that finance students can use to organize and analyze data effectively. By combining these techniques with Python's flexibility, you can solve many practical problems in finance."
      ],
      "metadata": {
        "id": "n5lNRfQ23DnA"
      }
    },
    {
      "cell_type": "markdown",
      "source": [
        "# 2. Python Tuples\n",
        "A Python Tuple is a collection of items separated by commas and typically enclosed in parentheses (). Tuples are immutable, meaning their elements cannot be changed once assigned. This makes them ideal for storing fixed data, such as financial benchmarks, constant rates, or other unchangeable datasets.\n",
        "\n",
        "# Key Characteristics of Python Tuples\n",
        "**Immutable:** Once created, their elements cannot be modified.\n",
        "\n",
        "**Ordered:** Items are stored in a specific sequence and can be accessed using an index.\n",
        "\n",
        "**Support for Different Data Types:** Tuples can hold integers, strings, floats, lists, and even dictionaries.\n",
        "\n",
        "## Example: Tuple in Finance\n",
        "\n",
        "- A tuple storing standard interest rates for bonds:\n",
        "\n",
        "(0.05, 0.07, 0.09)\n",
        "\n",
        "- Here, the tuple ensures these values remain unchanged, avoiding accidental modification."
      ],
      "metadata": {
        "id": "J2LMWgZD3L0r"
      }
    },
    {
      "cell_type": "markdown",
      "source": [
        "# How to Create a Tuple\n",
        "\n",
        "Tuples can be created with or without parentheses, but using parentheses is recommended for clarity."
      ],
      "metadata": {
        "id": "giq9QSJS3ngr"
      }
    },
    {
      "cell_type": "code",
      "source": [
        "# Examples of tuples\n",
        "empty_tuple = ()\n",
        "interest_rates = (0.05, 0.07, 0.09)  # Tuple with floats\n",
        "financial_data = (101, \"Stock\", 150.75)  # Tuple with mixed data types\n"
      ],
      "metadata": {
        "id": "FhR8BgZG3vBY"
      },
      "execution_count": null,
      "outputs": []
    },
    {
      "cell_type": "markdown",
      "source": [
        "# Accessing Tuple Elements\n",
        "You can access elements in a tuple using indexing. Remember, indices start at 0."
      ],
      "metadata": {
        "id": "wMA1ysNd3xqw"
      }
    },
    {
      "cell_type": "code",
      "source": [
        "# Example\n",
        "rates = (0.05, 0.07, 0.09)\n",
        "print(rates[0])  # Output: 0.05\n"
      ],
      "metadata": {
        "id": "9uFgXEeC30yI"
      },
      "execution_count": null,
      "outputs": []
    },
    {
      "cell_type": "markdown",
      "source": [
        "# Negative Indexing\n",
        "You can use negative indexing to access elements from the end of the tuple."
      ],
      "metadata": {
        "id": "5boxW8DE33Xf"
      }
    },
    {
      "cell_type": "code",
      "source": [
        "print(rates[-1])  # Output: 0.09\n"
      ],
      "metadata": {
        "id": "n8oDq3VR341m"
      },
      "execution_count": null,
      "outputs": []
    },
    {
      "cell_type": "markdown",
      "source": [
        "# Slicing Tuples\n",
        "Slicing allows you to access a range of elements."
      ],
      "metadata": {
        "id": "4SCCVhqg38tL"
      }
    },
    {
      "cell_type": "code",
      "source": [
        "# Slicing Example\n",
        "rates = (0.05, 0.07, 0.09, 0.11)\n",
        "print(rates[1:3])  # Output: (0.07, 0.09)\n"
      ],
      "metadata": {
        "id": "Hb-XF72q3_aL"
      },
      "execution_count": null,
      "outputs": []
    },
    {
      "cell_type": "markdown",
      "source": [
        "# Tuple Methods\n",
        "\n",
        "1. **count():** Counts occurrences of a specific element.\n",
        "\n",
        "**Example: Count how many times a certain rate appears in a tuple.**"
      ],
      "metadata": {
        "id": "mxZXJd0Y4B8I"
      }
    },
    {
      "cell_type": "code",
      "source": [
        "rates = (0.05, 0.07, 0.09, 0.07)\n",
        "print(rates.count(0.07))  # Output: 2\n"
      ],
      "metadata": {
        "id": "-ezMRV_F4K1Q"
      },
      "execution_count": null,
      "outputs": []
    },
    {
      "cell_type": "markdown",
      "source": [
        "2. **index():** Returns the index of the first occurrence of an element."
      ],
      "metadata": {
        "id": "lI-9q_cw4Luv"
      }
    },
    {
      "cell_type": "code",
      "source": [
        "print(rates.index(0.09))  # Output: 2\n"
      ],
      "metadata": {
        "id": "VoTbCKyT4SxI"
      },
      "execution_count": null,
      "outputs": []
    },
    {
      "cell_type": "markdown",
      "source": [
        "# Practical Applications for Finance\n",
        "\n",
        "1. **Immutable Data Storage:** Use tuples to store fixed financial constants like tax slabs or interest rates.\n",
        "\n",
        "2. **Dictionary Keys:** Tuples can be keys in a dictionary when storing data like stock details."
      ],
      "metadata": {
        "id": "jR7EEK5H4Vox"
      }
    },
    {
      "cell_type": "code",
      "source": [
        "# Tuple as a dictionary key\n",
        "stock_info = {(\"AAPL\", \"Tech\"): 150.50, (\"TSLA\", \"Auto\"): 650.75}\n",
        "print(stock_info[(\"AAPL\", \"Tech\")])  # Output: 150.50\n"
      ],
      "metadata": {
        "id": "sfudY0LP4eYD"
      },
      "execution_count": null,
      "outputs": []
    },
    {
      "cell_type": "markdown",
      "source": [
        "# Advantages of Tuples Over Lists\n",
        "\n",
        "1. **Faster Processing:** Tuples are generally faster than lists.\n",
        "\n",
        "2. **Data Integrity:** Tuples ensure that data remains unchanged, making them suitable for storing financial data that should not be modified."
      ],
      "metadata": {
        "id": "yU_FD0gf4hHN"
      }
    },
    {
      "cell_type": "markdown",
      "source": [
        "# Common Operations\n",
        "\n",
        "1. **Concatenation:** Combine tuples using the + operator.\n",
        "\n",
        "2. **Repetition:** Repeat tuples using the * operator."
      ],
      "metadata": {
        "id": "EwXLf1pG4rWd"
      }
    },
    {
      "cell_type": "markdown",
      "source": [
        "# Python Sets\n",
        "A Python set is a collection of unique, unordered items. Unlike lists or tuples, sets automatically remove duplicate elements and don't allow mutable items like lists or dictionaries. Sets are mutable, meaning you can add or remove items after creating them.\n",
        "\n",
        "For finance students, think of a set as a collection of unique financial instruments, like a portfolio of stocks where duplicates are removed automatically. You cannot reference a specific stock by index, but you can loop through the entire portfolio."
      ],
      "metadata": {
        "id": "qsnrRdS245zO"
      }
    },
    {
      "cell_type": "markdown",
      "source": [
        "# Creating Sets\n",
        "\n",
        "Using Curly Braces {}"
      ],
      "metadata": {
        "id": "8wCTOJvB49zz"
      }
    },
    {
      "cell_type": "code",
      "source": [
        "# Example: Days when the stock market is open\n",
        "market_days = {\"Monday\", \"Tuesday\", \"Wednesday\", \"Thursday\", \"Friday\"}\n",
        "print(market_days)\n"
      ],
      "metadata": {
        "id": "eMYndR8d5BfF"
      },
      "execution_count": null,
      "outputs": []
    },
    {
      "cell_type": "markdown",
      "source": [
        "Using set()"
      ],
      "metadata": {
        "id": "cq0nBeaE5Dt1"
      }
    },
    {
      "cell_type": "code",
      "source": [
        "# Example: Convert a list of transactions to a unique set\n",
        "transactions = set([\"Buy\", \"Sell\", \"Buy\", \"Hold\"])\n",
        "print(transactions)\n"
      ],
      "metadata": {
        "id": "s6TWE25Q5GDI"
      },
      "execution_count": null,
      "outputs": []
    },
    {
      "cell_type": "markdown",
      "source": [
        "# Key Features of Sets\n",
        "1. Unique Elements\n",
        "\n",
        "- Duplicate items are automatically removed:"
      ],
      "metadata": {
        "id": "1c6RaOus5H6C"
      }
    },
    {
      "cell_type": "code",
      "source": [
        "# Example: Removing duplicate stock symbols\n",
        "stocks = {\"AAPL\", \"GOOGL\", \"AAPL\", \"MSFT\"}\n",
        "print(stocks)  # Output: {'AAPL', 'GOOGL', 'MSFT'}\n"
      ],
      "metadata": {
        "id": "JcAEN__Q5QRA"
      },
      "execution_count": null,
      "outputs": []
    },
    {
      "cell_type": "markdown",
      "source": [
        "2. Immutable Elements\n",
        "\n",
        "- Only immutable items can be in a set:"
      ],
      "metadata": {
        "id": "oOP3IPxR5VRr"
      }
    },
    {
      "cell_type": "code",
      "source": [
        "portfolio = {100, \"AAPL\", (2024, \"Quarter 1\")}\n"
      ],
      "metadata": {
        "id": "qqUit0Va5Y6-"
      },
      "execution_count": null,
      "outputs": []
    },
    {
      "cell_type": "markdown",
      "source": [
        "Mutable items like lists will raise an error:"
      ],
      "metadata": {
        "id": "bFY37P5B-FOu"
      }
    },
    {
      "cell_type": "code",
      "source": [
        "invalid_set = {100, [\"AAPL\", \"MSFT\"]}\n",
        "# TypeError: unhashable type: 'list'\n"
      ],
      "metadata": {
        "id": "MZn5qWH_-F43"
      },
      "execution_count": null,
      "outputs": []
    },
    {
      "cell_type": "markdown",
      "source": [
        "# Adding and Removing Items\n",
        "\n",
        "1. Add Single Items with add()\n",
        "\n",
        "\n"
      ],
      "metadata": {
        "id": "X7V-j6bG-Jb9"
      }
    },
    {
      "cell_type": "code",
      "source": [
        "portfolio = {\"AAPL\", \"GOOGL\"}\n",
        "portfolio.add(\"TSLA\")\n",
        "print(portfolio)\n"
      ],
      "metadata": {
        "id": "a_Zf3UZi-Mar"
      },
      "execution_count": null,
      "outputs": []
    },
    {
      "cell_type": "markdown",
      "source": [
        "2. Add Multiple Items with update()"
      ],
      "metadata": {
        "id": "tPZlcL4t-QeO"
      }
    },
    {
      "cell_type": "code",
      "source": [
        "portfolio = {\"AAPL\", \"GOOGL\"}\n",
        "portfolio.update([\"MSFT\", \"AMZN\"])\n",
        "print(portfolio)\n"
      ],
      "metadata": {
        "id": "brSr-s71-VTQ"
      },
      "execution_count": null,
      "outputs": []
    },
    {
      "cell_type": "markdown",
      "source": [
        "# Remove Items with discard() or remove()\n",
        "\n",
        "1. **discard()** does nothing if the item doesn’t exist.\n",
        "\n",
        "2. **remove()** raises an error if the item doesn’t exist."
      ],
      "metadata": {
        "id": "mfu6nCZN-Zz1"
      }
    },
    {
      "cell_type": "code",
      "source": [
        "portfolio.discard(\"TSLA\")  # Safe\n",
        "portfolio.remove(\"TSLA\")  # Error if 'TSLA' is not in the set\n"
      ],
      "metadata": {
        "id": "6bD3f79y-gOD"
      },
      "execution_count": null,
      "outputs": []
    },
    {
      "cell_type": "markdown",
      "source": [
        "# Set Operations for Financial Analysis\n",
        "\n",
        "1. **Union (|):** Combine unique elements from two portfolios."
      ],
      "metadata": {
        "id": "9BDWK8Ii-lNk"
      }
    },
    {
      "cell_type": "code",
      "source": [
        "portfolio1 = {\"AAPL\", \"GOOGL\"}\n",
        "portfolio2 = {\"TSLA\", \"AAPL\"}\n",
        "combined = portfolio1 | portfolio2\n",
        "print(combined)  # Output: {'GOOGL', 'AAPL', 'TSLA'}\n"
      ],
      "metadata": {
        "id": "wUpZxEOn-imP"
      },
      "execution_count": null,
      "outputs": []
    },
    {
      "cell_type": "markdown",
      "source": [
        "2. **Intersection (&):** Find common elements between two sets."
      ],
      "metadata": {
        "id": "U94HyK9c-r77"
      }
    },
    {
      "cell_type": "code",
      "source": [
        "portfolio1 = {\"AAPL\", \"GOOGL\", \"MSFT\"}\n",
        "portfolio2 = {\"TSLA\", \"AAPL\"}\n",
        "common = portfolio1 & portfolio2\n",
        "print(common)  # Output: {'AAPL'}\n"
      ],
      "metadata": {
        "id": "uIU4X2wW-xyy"
      },
      "execution_count": null,
      "outputs": []
    },
    {
      "cell_type": "markdown",
      "source": [
        "3. **Difference (-):** Elements in one set but not the other."
      ],
      "metadata": {
        "id": "-k3-y6A2-0ed"
      }
    },
    {
      "cell_type": "code",
      "source": [
        "portfolio1 = {\"AAPL\", \"GOOGL\", \"MSFT\"}\n",
        "portfolio2 = {\"TSLA\", \"AAPL\"}\n",
        "diff = portfolio1 - portfolio2\n",
        "print(diff)  # Output: {'GOOGL', 'MSFT'}\n"
      ],
      "metadata": {
        "id": "LpuO2WLf-7iR"
      },
      "execution_count": null,
      "outputs": []
    },
    {
      "cell_type": "markdown",
      "source": [
        "4. **Symmetric Difference (^):** Items in either set, but not in both."
      ],
      "metadata": {
        "id": "pP1CXz2W--Ol"
      }
    },
    {
      "cell_type": "code",
      "source": [
        "exclusive = portfolio1 ^ portfolio2\n",
        "print(exclusive)  # Output: {'GOOGL', 'MSFT', 'TSLA'}\n"
      ],
      "metadata": {
        "id": "HGWgxbXQ_C-P"
      },
      "execution_count": null,
      "outputs": []
    },
    {
      "cell_type": "markdown",
      "source": [
        "# Advanced Concepts: Frozen Sets\n",
        "Frozen sets are immutable sets. They are useful when you want to ensure the set remains constant, like a predefined set of compliance regulations for financial audits."
      ],
      "metadata": {
        "id": "0Z5sLIJT_HgS"
      }
    },
    {
      "cell_type": "code",
      "source": [
        "# Example: Immutable compliance codes\n",
        "compliance_codes = frozenset([\"SOX\", \"GDPR\", \"PCI\"])\n",
        "print(compliance_codes)\n"
      ],
      "metadata": {
        "id": "EPmoVHFD_KPq"
      },
      "execution_count": null,
      "outputs": []
    },
    {
      "cell_type": "markdown",
      "source": [
        "# Practical Examples for Finance\n",
        "\n",
        "1. Remove Duplicates from Transactions"
      ],
      "metadata": {
        "id": "XFN-6skl_MmG"
      }
    },
    {
      "cell_type": "code",
      "source": [
        "transactions = {\"Buy\", \"Sell\", \"Hold\", \"Buy\"}\n",
        "unique_transactions = set(transactions)\n",
        "print(unique_transactions)  # Output: {'Sell', 'Buy', 'Hold'}\n"
      ],
      "metadata": {
        "id": "ioHsX5Xy_PbI"
      },
      "execution_count": null,
      "outputs": []
    },
    {
      "cell_type": "markdown",
      "source": [
        "2. Find Common Stocks in Portfolios"
      ],
      "metadata": {
        "id": "gzedAI-o_RWM"
      }
    },
    {
      "cell_type": "code",
      "source": [
        "portfolio1 = {\"AAPL\", \"TSLA\", \"GOOGL\"}\n",
        "portfolio2 = {\"TSLA\", \"MSFT\", \"GOOGL\"}\n",
        "common_stocks = portfolio1 & portfolio2\n",
        "print(common_stocks)  # Output: {'TSLA', 'GOOGL'}\n"
      ],
      "metadata": {
        "id": "jo_W3ALF_Vxe"
      },
      "execution_count": null,
      "outputs": []
    },
    {
      "cell_type": "markdown",
      "source": [
        "3. Calculate Exclusive Investments"
      ],
      "metadata": {
        "id": "Exqp1WGX_XpM"
      }
    },
    {
      "cell_type": "code",
      "source": [
        "portfolio1 = {\"AAPL\", \"TSLA\"}\n",
        "portfolio2 = {\"GOOGL\", \"AAPL\"}\n",
        "exclusive = portfolio1 ^ portfolio2\n",
        "print(exclusive)  # Output: {'TSLA', 'GOOGL'}\n"
      ],
      "metadata": {
        "id": "_apBLlH__cDn"
      },
      "execution_count": null,
      "outputs": []
    },
    {
      "cell_type": "markdown",
      "source": [
        "# 4. Python Dictionaries\n",
        "Dictionaries in Python are powerful tools for storing and managing data in a way that mirrors real-world relationships, where each value is linked to a specific key. This makes them incredibly useful for financial data analysis, such as mapping stock tickers to company names or customer IDs to account details."
      ],
      "metadata": {
        "id": "Gx6TrxT9_jzq"
      }
    },
    {
      "cell_type": "markdown",
      "source": [
        "# What is a Python Dictionary?\n",
        "\n",
        "1. **Structure:** A dictionary stores data as key-value pairs. Think of it as a ledger where each entry (key) is paired with a value.\n",
        "2. **Mutability:** Dictionaries are mutable, meaning you can modify them after creation.\n",
        "3. **Keys:** Must be unique and immutable (e.g., strings, numbers, or tuples).\n",
        "4. **Values:** Can be any data type (e.g., integers, lists, or even other dictionaries).\n",
        "\n",
        "## Example:\n",
        "Mapping a finance student's course details:"
      ],
      "metadata": {
        "id": "OzKlGCUY_p48"
      }
    },
    {
      "cell_type": "code",
      "source": [
        "finance_course = {\"Course\": \"Financial Modeling\", \"Credits\": 3, \"Instructor\": \"Dr. Smith\"}\n"
      ],
      "metadata": {
        "id": "dRw6axqs_7rc"
      },
      "execution_count": null,
      "outputs": []
    },
    {
      "cell_type": "markdown",
      "source": [
        "# Creating a Dictionary\n",
        "\n",
        "1. Using Curly Braces {}:"
      ],
      "metadata": {
        "id": "dWqGxGxd_7FT"
      }
    },
    {
      "cell_type": "code",
      "source": [
        "student_grades = {\"John\": 85, \"Alice\": 90, \"Mark\": 78}\n",
        "print(student_grades)\n"
      ],
      "metadata": {
        "id": "pxvC3fd8_GoK"
      },
      "execution_count": null,
      "outputs": []
    },
    {
      "cell_type": "markdown",
      "source": [
        "2.Using the dict() Method:"
      ],
      "metadata": {
        "id": "J5Kx5IzvAEqb"
      }
    },
    {
      "cell_type": "code",
      "source": [
        "companies = dict({1: \"HDFC\", 2: \"ICICI\", 3: \"SBI\"})\n",
        "print(companies)\n"
      ],
      "metadata": {
        "id": "zKCfXy-6AIP_"
      },
      "execution_count": null,
      "outputs": []
    },
    {
      "cell_type": "markdown",
      "source": [
        "# Accessing Dictionary Values\n",
        "You can retrieve data by using keys, similar to looking up account details using a customer ID.\n",
        "\n",
        "**Example:**"
      ],
      "metadata": {
        "id": "Z1PBW4OQAL4I"
      }
    },
    {
      "cell_type": "code",
      "source": [
        "portfolio = {\"Stock\": \"AAPL\", \"Shares\": 10, \"Price\": 150}\n",
        "print(portfolio[\"Stock\"])  # Output: AAPL\n"
      ],
      "metadata": {
        "id": "WtU0cRXGAQkw"
      },
      "execution_count": null,
      "outputs": []
    },
    {
      "cell_type": "markdown",
      "source": [
        "# Adding and Updating Entries\n",
        "\n",
        "1. Adding New Entries:"
      ],
      "metadata": {
        "id": "m7bfsIADAUlU"
      }
    },
    {
      "cell_type": "code",
      "source": [
        "portfolio = {\"Stock\": \"AAPL\", \"Shares\": 10}\n",
        "portfolio[\"Price\"] = 150\n",
        "print(portfolio)\n"
      ],
      "metadata": {
        "id": "5R7gbL9CAYjr"
      },
      "execution_count": null,
      "outputs": []
    },
    {
      "cell_type": "markdown",
      "source": [
        "2. Updating Existing Values:"
      ],
      "metadata": {
        "id": "_R5qJjkWAayv"
      }
    },
    {
      "cell_type": "code",
      "source": [
        "portfolio[\"Price\"] = 155\n",
        "print(portfolio)\n"
      ],
      "metadata": {
        "id": "rxBW4pZ6AepT"
      },
      "execution_count": null,
      "outputs": []
    },
    {
      "cell_type": "markdown",
      "source": [
        "# Removing Entries\n",
        "\n",
        "1. Using del:"
      ],
      "metadata": {
        "id": "i2QZG8jSAhUS"
      }
    },
    {
      "cell_type": "code",
      "source": [
        "del portfolio[\"Price\"]\n",
        "print(portfolio)\n"
      ],
      "metadata": {
        "id": "Y_4qbOaUAj6A"
      },
      "execution_count": null,
      "outputs": []
    },
    {
      "cell_type": "markdown",
      "source": [
        "2. Using pop():"
      ],
      "metadata": {
        "id": "BL3m0NeIAl5w"
      }
    },
    {
      "cell_type": "code",
      "source": [
        "removed_value = portfolio.pop(\"Shares\")\n",
        "print(removed_value)  # Output: 10\n",
        "print(portfolio)      # Output: {'Stock': 'AAPL'}\n"
      ],
      "metadata": {
        "id": "j2fguti_Apc-"
      },
      "execution_count": null,
      "outputs": []
    },
    {
      "cell_type": "markdown",
      "source": [
        "# Iterating Through a Dictionary\n",
        "\n",
        "**Example: Printing all student grades:**"
      ],
      "metadata": {
        "id": "-vYVRKmGAtPx"
      }
    },
    {
      "cell_type": "code",
      "source": [
        "grades = {\"John\": 85, \"Alice\": 90, \"Mark\": 78}\n",
        "for student, grade in grades.items():\n",
        "    print(f\"{student}: {grade}\")\n"
      ],
      "metadata": {
        "id": "H8wAEYR5Ayc5"
      },
      "execution_count": null,
      "outputs": []
    },
    {
      "cell_type": "markdown",
      "source": [
        "# Built-in Dictionary Methods\n",
        "\n",
        "1. **keys():** Retrieve all keys."
      ],
      "metadata": {
        "id": "n1sRbTrqAzPn"
      }
    },
    {
      "cell_type": "code",
      "source": [
        "grades.keys()  # Output: dict_keys(['John', 'Alice', 'Mark'])\n"
      ],
      "metadata": {
        "id": "krx81Q0nA5iM"
      },
      "execution_count": null,
      "outputs": []
    },
    {
      "cell_type": "markdown",
      "source": [
        "2.**values():** Retrieve all values."
      ],
      "metadata": {
        "id": "2A0DZ6gIA8JX"
      }
    },
    {
      "cell_type": "code",
      "source": [
        "grades.values()  # Output: dict_values([85, 90, 78])\n"
      ],
      "metadata": {
        "id": "GbvOTuVrBAKK"
      },
      "execution_count": null,
      "outputs": []
    },
    {
      "cell_type": "markdown",
      "source": [
        "3. **items():** Retrieve key-value pairs as tuples."
      ],
      "metadata": {
        "id": "7LVKKeHvBCIa"
      }
    },
    {
      "cell_type": "code",
      "source": [
        "grades.items()  # Output: dict_items([('John', 85), ('Alice', 90), ('Mark', 78)])\n"
      ],
      "metadata": {
        "id": "FOGhqLjWBHqz"
      },
      "execution_count": null,
      "outputs": []
    },
    {
      "cell_type": "markdown",
      "source": [
        "4. **update():** Merge another dictionary."
      ],
      "metadata": {
        "id": "QLwcPHi-BJf4"
      }
    },
    {
      "cell_type": "code",
      "source": [
        "new_data = {\"Paul\": 88}\n",
        "grades.update(new_data)\n",
        "print(grades)  # Output: {'John': 85, 'Alice': 90, 'Mark': 78, 'Paul': 88}\n"
      ],
      "metadata": {
        "id": "Y0zeXthGBNhB"
      },
      "execution_count": null,
      "outputs": []
    },
    {
      "cell_type": "markdown",
      "source": [
        "5. **clear():** Remove all entries."
      ],
      "metadata": {
        "id": "leSx1z7gBR26"
      }
    },
    {
      "cell_type": "code",
      "source": [
        "grades.clear()\n",
        "print(grades)  # Output: {}\n"
      ],
      "metadata": {
        "id": "rOTT4l22BU0W"
      },
      "execution_count": null,
      "outputs": []
    },
    {
      "cell_type": "markdown",
      "source": [
        "# Practical Finance Examples\n",
        "\n",
        "## 1. Stock Portfolio:"
      ],
      "metadata": {
        "id": "bRfJdlpJBWzJ"
      }
    },
    {
      "cell_type": "code",
      "source": [
        "portfolio = {\"AAPL\": 150, \"GOOG\": 2800, \"MSFT\": 299}\n"
      ],
      "metadata": {
        "id": "Pvq8-qhPBcDH"
      },
      "execution_count": null,
      "outputs": []
    },
    {
      "cell_type": "markdown",
      "source": [
        "## 2. Transaction Ledger:"
      ],
      "metadata": {
        "id": "Wi01dGM_Bd8D"
      }
    },
    {
      "cell_type": "code",
      "source": [
        "transactions = {1: \"Buy AAPL\", 2: \"Sell MSFT\", 3: \"Hold GOOG\"}\n"
      ],
      "metadata": {
        "id": "mF9U2q70Bhg9"
      },
      "execution_count": null,
      "outputs": []
    },
    {
      "cell_type": "markdown",
      "source": [],
      "metadata": {
        "id": "4Beh3ixiBv-Z"
      }
    },
    {
      "cell_type": "markdown",
      "source": [
        "## 3. Budget Allocation:"
      ],
      "metadata": {
        "id": "sGMhgadpBjn0"
      }
    },
    {
      "cell_type": "code",
      "source": [
        "budget = {\"Rent\": 500, \"Groceries\": 300, \"Savings\": 200}\n"
      ],
      "metadata": {
        "id": "4caYyVcWBrnM"
      },
      "execution_count": null,
      "outputs": []
    },
    {
      "cell_type": "markdown",
      "source": [
        "Python dictionaries offer flexibility and ease of use for managing financial data, making them essential for finance students aspiring to analyze and manage real-world data efficiently"
      ],
      "metadata": {
        "id": "XT8gKYgdBtnq"
      }
    }
  ]
}